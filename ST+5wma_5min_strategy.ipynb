{
  "nbformat": 4,
  "nbformat_minor": 0,
  "metadata": {
    "colab": {
      "provenance": []
    },
    "kernelspec": {
      "name": "python3",
      "display_name": "Python 3"
    },
    "language_info": {
      "name": "python"
    }
  },
  "cells": [
    {
      "cell_type": "markdown",
      "source": [
        "Importing all libraries"
      ],
      "metadata": {
        "id": "-C9pQvrPyrK9"
      }
    },
    {
      "cell_type": "code",
      "execution_count": 1,
      "metadata": {
        "colab": {
          "base_uri": "https://localhost:8080/"
        },
        "id": "SMohTvRXxIW6",
        "outputId": "63790efc-e5bd-428f-d8d2-2ea106dea686"
      },
      "outputs": [
        {
          "output_type": "stream",
          "name": "stdout",
          "text": [
            "\u001b[2K     \u001b[90m━━━━━━━━━━━━━━━━━━━━━━━━━━━━━━━━━━━━━━━━\u001b[0m \u001b[32m44.4/44.4 kB\u001b[0m \u001b[31m509.4 kB/s\u001b[0m eta \u001b[36m0:00:00\u001b[0m\n",
            "\u001b[2K   \u001b[90m━━━━━━━━━━━━━━━━━━━━━━━━━━━━━━━━━━━━━━━━\u001b[0m \u001b[32m771.5/771.5 kB\u001b[0m \u001b[31m17.3 MB/s\u001b[0m eta \u001b[36m0:00:00\u001b[0m\n",
            "\u001b[2K   \u001b[90m━━━━━━━━━━━━━━━━━━━━━━━━━━━━━━━━━━━━━━━━\u001b[0m \u001b[32m3.2/3.2 MB\u001b[0m \u001b[31m22.7 MB/s\u001b[0m eta \u001b[36m0:00:00\u001b[0m\n",
            "\u001b[2K   \u001b[90m━━━━━━━━━━━━━━━━━━━━━━━━━━━━━━━━━━━━━━━━\u001b[0m \u001b[32m259.8/259.8 kB\u001b[0m \u001b[31m10.3 MB/s\u001b[0m eta \u001b[36m0:00:00\u001b[0m\n",
            "\u001b[2K   \u001b[90m━━━━━━━━━━━━━━━━━━━━━━━━━━━━━━━━━━━━━━━━\u001b[0m \u001b[32m42.6/42.6 kB\u001b[0m \u001b[31m1.6 MB/s\u001b[0m eta \u001b[36m0:00:00\u001b[0m\n",
            "\u001b[2K   \u001b[90m━━━━━━━━━━━━━━━━━━━━━━━━━━━━━━━━━━━━━━━━\u001b[0m \u001b[32m74.6/74.6 kB\u001b[0m \u001b[31m1.0 MB/s\u001b[0m eta \u001b[36m0:00:00\u001b[0m\n",
            "\u001b[?25hMounted at /content/drive\n",
            "All libraries installed and imported successfully\n"
          ]
        }
      ],
      "source": [
        "!pip install --quiet kiteconnect pandas matplotlib numpy\n",
        "import pandas as pd\n",
        "import numpy as np\n",
        "from datetime import datetime,timedelta\n",
        "from kiteconnect import KiteConnect\n",
        "from google.colab import drive\n",
        "import matplotlib.pyplot as plt\n",
        "drive.mount('/content/drive',force_remount = True)\n",
        "print(\"All libraries installed and imported successfully\")"
      ]
    },
    {
      "cell_type": "markdown",
      "source": [
        "Setting up API key"
      ],
      "metadata": {
        "id": "o2skOqAUyt9h"
      }
    },
    {
      "cell_type": "code",
      "source": [
        "API_KEY = \"8re7mjcm2btaozwf\"\n",
        "API_SECRET = \"fw8gm7wfeclcic9rlkp0tbzx4h2ss2n1\"\n",
        "REDIRECT_URL = \"https://example.com\"\n",
        "\n",
        "\n",
        "kite = KiteConnect(api_key=API_KEY)\n",
        "\n",
        "\n",
        "login_url = kite.login_url()\n",
        "print(f\"Login to your Kite account using this URL: {login_url}\")\n",
        "\n",
        "\n",
        "request_token = input(\"Paste the request token from the URL here: \")\n",
        "\n",
        "\n",
        "try:\n",
        "    data = kite.generate_session(request_token=request_token, api_secret=API_SECRET)\n",
        "    access_token = data[\"access_token\"]\n",
        "    print(f\"Access Token: {access_token}\")\n",
        "\n",
        "\n",
        "    kite.set_access_token(access_token)\n",
        "    print(\"Kite Connect is now initialized and ready to use!\")\n",
        "except Exception as e:\n",
        "    print(f\"Error generating access token: {e}\")"
      ],
      "metadata": {
        "colab": {
          "base_uri": "https://localhost:8080/"
        },
        "id": "8YJ40mPtywlU",
        "outputId": "e7a0c480-13d0-4eff-e116-69e7c03a606c"
      },
      "execution_count": 2,
      "outputs": [
        {
          "output_type": "stream",
          "name": "stdout",
          "text": [
            "Login to your Kite account using this URL: https://kite.zerodha.com/connect/login?api_key=8re7mjcm2btaozwf&v=3\n",
            "Paste the request token from the URL here: Ec9MIAtNQskoBeF9Afo69fqKPPVl4FNl\n",
            "Access Token: k3Nxh5bTkvqorL7t24p2J49BFEREx6N6\n",
            "Kite Connect is now initialized and ready to use!\n"
          ]
        }
      ]
    },
    {
      "cell_type": "markdown",
      "source": [
        "Fetching Nifty 50 instrument token"
      ],
      "metadata": {
        "id": "rg0PtUPny8Gi"
      }
    },
    {
      "cell_type": "code",
      "source": [
        "import os\n",
        "import pandas as pd\n",
        "from datetime import datetime, timedelta\n",
        "\n",
        "def get_instrument_token(kite, tradingsymbol=\"NIFTY\", exchange=\"NSE\"):\n",
        "    try:\n",
        "        # Fetch all instruments for the given exchange\n",
        "        instruments = kite.instruments(exchange)\n",
        "\n",
        "        # Loop through the instruments and find the matching trading symbol\n",
        "        for instrument in instruments:\n",
        "            if instrument['tradingsymbol'] == tradingsymbol:\n",
        "                print(f\"Instrument Token for {tradingsymbol}: {instrument['instrument_token']}\")\n",
        "                return instrument['instrument_token']\n",
        "\n",
        "        print(f\"Instrument Token for {tradingsymbol} not found.\")\n",
        "        return None\n",
        "    except Exception as e:\n",
        "        print(f\"Error fetching instrument token: {e}\")\n",
        "        return None\n",
        "\n",
        "# Example Usage\n",
        "nifty50_token = get_instrument_token(kite, tradingsymbol=\"NIFTY 50\", exchange=\"NSE\")"
      ],
      "metadata": {
        "colab": {
          "base_uri": "https://localhost:8080/"
        },
        "id": "QoL0VmbwzAxT",
        "outputId": "ee7157fe-0581-4c1b-b8a6-f63f0b86d836"
      },
      "execution_count": 3,
      "outputs": [
        {
          "output_type": "stream",
          "name": "stdout",
          "text": [
            "Instrument Token for NIFTY 50: 256265\n"
          ]
        }
      ]
    },
    {
      "cell_type": "markdown",
      "source": [
        "Fetching 1min timeframe data for 2024"
      ],
      "metadata": {
        "id": "xG5_DIcVzaGz"
      }
    },
    {
      "cell_type": "code",
      "source": [
        "import os\n",
        "import pandas as pd\n",
        "from datetime import datetime, timedelta\n",
        "\n",
        "def fetch_1min_data_2024(kite, instrument_token, drive_output_dir):\n",
        "    \"\"\"\n",
        "    Fetch 1-minute OHLC data for 2024 and save it as a CSV file on Google Drive.\n",
        "\n",
        "    Args:\n",
        "        kite: An instance of the KiteConnect API.\n",
        "        instrument_token: The instrument token for which to fetch data.\n",
        "        drive_output_dir: Path to the Google Drive directory to save the file.\n",
        "\n",
        "    Returns:\n",
        "        str: Path to the saved CSV file.\n",
        "    \"\"\"\n",
        "    # Define the start and end date for 2024\n",
        "    start_date = datetime(2024, 1, 1)\n",
        "    end_date = datetime(2024, 12, 31)\n",
        "\n",
        "    # Split the date range into chunks of 30 days (Kite API limitation)\n",
        "    date_ranges = []\n",
        "    current_start = start_date\n",
        "    while current_start < end_date:\n",
        "        current_end = min(current_start + timedelta(days=30), end_date)\n",
        "        date_ranges.append((current_start, current_end))\n",
        "        current_start = current_end + timedelta(days=1)\n",
        "\n",
        "    # Initialize an empty DataFrame to store all data\n",
        "    all_data = pd.DataFrame()\n",
        "\n",
        "    # Fetch data for each date range\n",
        "    for start, end in date_ranges:\n",
        "        print(f\"Fetching data from {start.date()} to {end.date()}...\")\n",
        "        try:\n",
        "            # Fetch historical data from Kite API\n",
        "            data = kite.historical_data(\n",
        "                instrument_token=instrument_token,\n",
        "                from_date=start.strftime(\"%Y-%m-%d\"),\n",
        "                to_date=end.strftime(\"%Y-%m-%d\"),\n",
        "                interval=\"minute\"\n",
        "            )\n",
        "\n",
        "            # Convert to DataFrame\n",
        "            df = pd.DataFrame(data)\n",
        "\n",
        "            # Keep only OHLC columns\n",
        "            if not df.empty:\n",
        "                df = df[['date', 'open', 'high', 'low', 'close']]\n",
        "                df['date'] = pd.to_datetime(df['date'])\n",
        "                df.set_index('date', inplace=True)\n",
        "\n",
        "                # Append to the main DataFrame\n",
        "                all_data = pd.concat([all_data, df])\n",
        "        except Exception as e:\n",
        "            print(f\"Error fetching data from {start.date()} to {end.date()}: {e}\")\n",
        "\n",
        "    # Save the data to a CSV file in the Google Drive directory\n",
        "    if not all_data.empty:\n",
        "        file_path = os.path.join(drive_output_dir, \"new_1min_data_2024.csv\")\n",
        "        all_data.to_csv(file_path)\n",
        "        print(f\"Data successfully saved to {file_path}\")\n",
        "        return file_path\n",
        "    else:\n",
        "        print(\"No data fetched.\")\n",
        "        return None\n",
        "\n",
        "# Define instrument token for the desired stock/index\n",
        "instrument_token = 256265  # Replace with your desired instrument token\n",
        "\n",
        "# Define Google Drive directory to save the file\n",
        "drive_output_dir = \"/content/drive/My Drive\"\n",
        "\n",
        "# Fetch and save 2024 data\n",
        "fetch_1min_data_2024(kite, instrument_token, drive_output_dir)"
      ],
      "metadata": {
        "colab": {
          "base_uri": "https://localhost:8080/",
          "height": 268
        },
        "id": "AYrwDLpEzf8F",
        "outputId": "5a508ab5-257a-4b34-b735-025b8bdf0313"
      },
      "execution_count": 4,
      "outputs": [
        {
          "output_type": "stream",
          "name": "stdout",
          "text": [
            "Fetching data from 2024-01-01 to 2024-01-31...\n",
            "Fetching data from 2024-02-01 to 2024-03-02...\n",
            "Fetching data from 2024-03-03 to 2024-04-02...\n",
            "Fetching data from 2024-04-03 to 2024-05-03...\n",
            "Fetching data from 2024-05-04 to 2024-06-03...\n",
            "Fetching data from 2024-06-04 to 2024-07-04...\n",
            "Fetching data from 2024-07-05 to 2024-08-04...\n",
            "Fetching data from 2024-08-05 to 2024-09-04...\n",
            "Fetching data from 2024-09-05 to 2024-10-05...\n",
            "Fetching data from 2024-10-06 to 2024-11-05...\n",
            "Fetching data from 2024-11-06 to 2024-12-06...\n",
            "Fetching data from 2024-12-07 to 2024-12-31...\n",
            "Data successfully saved to /content/drive/My Drive/new_1min_data_2024.csv\n"
          ]
        },
        {
          "output_type": "execute_result",
          "data": {
            "text/plain": [
              "'/content/drive/My Drive/new_1min_data_2024.csv'"
            ],
            "application/vnd.google.colaboratory.intrinsic+json": {
              "type": "string"
            }
          },
          "metadata": {},
          "execution_count": 4
        }
      ]
    },
    {
      "cell_type": "markdown",
      "source": [
        "Fetch 5min timeframe data and store it in a separate csv file"
      ],
      "metadata": {
        "id": "rvvgo_kM192k"
      }
    },
    {
      "cell_type": "code",
      "source": [
        "import os\n",
        "import pandas as pd\n",
        "from datetime import datetime, timedelta\n",
        "\n",
        "def fetch_5min_data_2024(kite, instrument_token, drive_output_dir):\n",
        "    \"\"\"\n",
        "    Fetch 5-minute OHLC data for 2024 and save it as a CSV file on Google Drive.\n",
        "\n",
        "    Args:\n",
        "        kite: An instance of the KiteConnect API.\n",
        "        instrument_token: The instrument token for which to fetch data.\n",
        "        drive_output_dir: Path to the Google Drive directory to save the file.\n",
        "\n",
        "    Returns:\n",
        "        str: Path to the saved CSV file.\n",
        "    \"\"\"\n",
        "    # Initialize an empty DataFrame to store all data\n",
        "    all_data = pd.DataFrame()\n",
        "\n",
        "    # Loop through each month in 2024\n",
        "    for month in range(1, 13):\n",
        "        start_date = datetime(2024, month, 1)\n",
        "        next_month = start_date + timedelta(days=32)\n",
        "        end_date = datetime(next_month.year, next_month.month, 1) - timedelta(days=1)\n",
        "\n",
        "        print(f\"Fetching data from {start_date.date()} to {end_date.date()}...\")\n",
        "\n",
        "        try:\n",
        "            # Fetch historical data for the current month\n",
        "            data = kite.historical_data(\n",
        "                instrument_token=instrument_token,\n",
        "                from_date=start_date.strftime(\"%Y-%m-%d\"),\n",
        "                to_date=end_date.strftime(\"%Y-%m-%d\"),\n",
        "                interval=\"5minute\"  # Changed to 5-minute timeframe\n",
        "            )\n",
        "\n",
        "            # Convert to DataFrame\n",
        "            df = pd.DataFrame(data)\n",
        "\n",
        "            # Keep only OHLC columns\n",
        "            if not df.empty:\n",
        "                df = df[['date', 'open', 'high', 'low', 'close']]\n",
        "                df['date'] = pd.to_datetime(df['date'])\n",
        "                df.set_index('date', inplace=True)\n",
        "\n",
        "                # Append to the main DataFrame\n",
        "                all_data = pd.concat([all_data, df])\n",
        "        except Exception as e:\n",
        "            print(f\"Error fetching data from {start_date.date()} to {end_date.date()}: {e}\")\n",
        "\n",
        "    # Save the data to a CSV file in the Google Drive directory\n",
        "    if not all_data.empty:\n",
        "        file_path = os.path.join(drive_output_dir, \"5min_data_2024.csv\")  # Changed filename\n",
        "        all_data.to_csv(file_path)\n",
        "        print(f\"5-minute data successfully saved to {file_path}\")\n",
        "        return file_path\n",
        "    else:\n",
        "        print(\"No data fetched.\")\n",
        "        return None\n",
        "\n",
        "# Define instrument token for the desired stock/index\n",
        "instrument_token = 256265  # Replace with your desired instrument token\n",
        "\n",
        "# Define Google Drive directory to save the file\n",
        "drive_output_dir = \"/content/drive/My Drive\"\n",
        "\n",
        "# Fetch and save 5-minute timeframe data for 2024\n",
        "fetch_5min_data_2024(kite, instrument_token, drive_output_dir)\n"
      ],
      "metadata": {
        "colab": {
          "base_uri": "https://localhost:8080/",
          "height": 268
        },
        "id": "GOqjx6eU2Aqa",
        "outputId": "c85cfacd-a716-4c41-8d28-03b77cfe793c"
      },
      "execution_count": 5,
      "outputs": [
        {
          "output_type": "stream",
          "name": "stdout",
          "text": [
            "Fetching data from 2024-01-01 to 2024-01-31...\n",
            "Fetching data from 2024-02-01 to 2024-02-29...\n",
            "Fetching data from 2024-03-01 to 2024-03-31...\n",
            "Fetching data from 2024-04-01 to 2024-04-30...\n",
            "Fetching data from 2024-05-01 to 2024-05-31...\n",
            "Fetching data from 2024-06-01 to 2024-06-30...\n",
            "Fetching data from 2024-07-01 to 2024-07-31...\n",
            "Fetching data from 2024-08-01 to 2024-08-31...\n",
            "Fetching data from 2024-09-01 to 2024-09-30...\n",
            "Fetching data from 2024-10-01 to 2024-10-31...\n",
            "Fetching data from 2024-11-01 to 2024-11-30...\n",
            "Fetching data from 2024-12-01 to 2024-12-31...\n",
            "5-minute data successfully saved to /content/drive/My Drive/5min_data_2024.csv\n"
          ]
        },
        {
          "output_type": "execute_result",
          "data": {
            "text/plain": [
              "'/content/drive/My Drive/5min_data_2024.csv'"
            ],
            "application/vnd.google.colaboratory.intrinsic+json": {
              "type": "string"
            }
          },
          "metadata": {},
          "execution_count": 5
        }
      ]
    },
    {
      "cell_type": "markdown",
      "source": [
        "Calculate the HL/2 (high-low midpoint)\n"
      ],
      "metadata": {
        "id": "DOxYGhYD3CZ3"
      }
    },
    {
      "cell_type": "code",
      "source": [
        "import pandas as pd\n",
        "\n",
        "def add_hl2_to_csv(file_path):\n",
        "    \"\"\"\n",
        "    Calculate HL2 (High-Low Midpoint) and add it as a column to the CSV file.\n",
        "\n",
        "    Args:\n",
        "        file_path (str): Path to the 5-minute CSV file.\n",
        "\n",
        "    Returns:\n",
        "        str: Path to the updated CSV file.\n",
        "    \"\"\"\n",
        "    try:\n",
        "        # Load the CSV file\n",
        "        df = pd.read_csv(file_path, parse_dates=['date'], index_col='date')\n",
        "\n",
        "        # Calculate HL2\n",
        "        df['hl2'] = (df['high'] + df['low']) / 2\n",
        "\n",
        "        # Save the updated DataFrame back to the CSV file\n",
        "        df.to_csv(file_path)\n",
        "        print(f\"HL2 column added and saved to {file_path}\")\n",
        "        return file_path\n",
        "    except Exception as e:\n",
        "        print(f\"Error while adding HL2: {e}\")\n",
        "        return None\n",
        "\n",
        "# Path to the 5-minute CSV file\n",
        "file_path = \"/content/drive/My Drive/5min_data_2024.csv\"  # Updated file name\n",
        "\n",
        "# Add HL2 to the 5-minute CSV file\n",
        "add_hl2_to_csv(file_path)\n"
      ],
      "metadata": {
        "colab": {
          "base_uri": "https://localhost:8080/",
          "height": 53
        },
        "id": "5BLnfaLg3F3n",
        "outputId": "fc14519b-c9cc-46ec-90c6-4d6765c4de3a"
      },
      "execution_count": 6,
      "outputs": [
        {
          "output_type": "stream",
          "name": "stdout",
          "text": [
            "HL2 column added and saved to /content/drive/My Drive/5min_data_2024.csv\n"
          ]
        },
        {
          "output_type": "execute_result",
          "data": {
            "text/plain": [
              "'/content/drive/My Drive/5min_data_2024.csv'"
            ],
            "application/vnd.google.colaboratory.intrinsic+json": {
              "type": "string"
            }
          },
          "metadata": {},
          "execution_count": 6
        }
      ]
    },
    {
      "cell_type": "markdown",
      "source": [
        "Calculate ATR for supertrend channel"
      ],
      "metadata": {
        "id": "1aRoY-4I3J1u"
      }
    },
    {
      "cell_type": "code",
      "source": [
        "import pandas as pd\n",
        "\n",
        "def add_atr_to_csv_rma(file_path, length=10, multiplier=3):\n",
        "    \"\"\"\n",
        "    Calculate ATR (Average True Range) using RMA (Wilder's Moving Average)\n",
        "    and add it as a column to the CSV file.\n",
        "\n",
        "    Args:\n",
        "        file_path (str): Path to the 5-minute CSV file.\n",
        "        length (int): Lookback period for ATR calculation (default: 10).\n",
        "        multiplier (float): Multiplier for ATR (default: 3).\n",
        "\n",
        "    Returns:\n",
        "        str: Path to the updated CSV file.\n",
        "    \"\"\"\n",
        "    try:\n",
        "        # Load the CSV file\n",
        "        df = pd.read_csv(file_path, parse_dates=['date'], index_col='date')\n",
        "\n",
        "        # Initialize columns for True Range and ATR\n",
        "        df['true_range'] = 0.0\n",
        "        df['atr'] = 0.0\n",
        "\n",
        "        # Calculate True Range (TR)\n",
        "        for i in range(1, len(df)):\n",
        "            high = df.iloc[i]['high']\n",
        "            low = df.iloc[i]['low']\n",
        "            prev_close = df.iloc[i - 1]['close']\n",
        "\n",
        "            tr = max(\n",
        "                high - low,  # High - Low\n",
        "                abs(high - prev_close),  # High - Previous Close\n",
        "                abs(low - prev_close)  # Low - Previous Close\n",
        "            )\n",
        "            df.at[df.index[i], 'true_range'] = tr\n",
        "\n",
        "        # Calculate ATR using RMA\n",
        "        for i in range(len(df)):\n",
        "            if i == 0:\n",
        "                # Set initial ATR as the simple average of the first 'length' TR values\n",
        "                df.at[df.index[i], 'atr'] = 0.0\n",
        "            elif i < length:\n",
        "                # Simple average for the first 'length' rows\n",
        "                df.at[df.index[i], 'atr'] = df['true_range'][:i+1].mean()\n",
        "            else:\n",
        "                # Wilder's RMA formula\n",
        "                prev_atr = df.iloc[i - 1]['atr']\n",
        "                tr = df.iloc[i]['true_range']\n",
        "                df.at[df.index[i], 'atr'] = ((prev_atr * (length - 1)) + tr) / length\n",
        "\n",
        "        # Apply the multiplier to scale the ATR (if needed)\n",
        "        df['atr'] *= multiplier\n",
        "\n",
        "        # Drop the intermediate 'true_range' column (optional)\n",
        "        df.drop(columns=['true_range'], inplace=True)\n",
        "\n",
        "        # Save the updated DataFrame back to the CSV file\n",
        "        df.to_csv(file_path)\n",
        "        print(f\"ATR (RMA-based) column added and saved to {file_path}\")\n",
        "        return file_path\n",
        "    except Exception as e:\n",
        "        print(f\"Error while adding ATR: {e}\")\n",
        "        return None\n",
        "\n",
        "# Path to the 5-minute CSV file\n",
        "file_path = \"/content/drive/My Drive/5min_data_2024.csv\"  # Updated file name\n",
        "\n",
        "# Add ATR to the 5-minute CSV file\n",
        "add_atr_to_csv_rma(file_path, length=10, multiplier=3)\n"
      ],
      "metadata": {
        "colab": {
          "base_uri": "https://localhost:8080/",
          "height": 53
        },
        "id": "ViCgrGJJ3Yki",
        "outputId": "7889232b-1489-4fea-c022-5f9d03bf98b7"
      },
      "execution_count": 7,
      "outputs": [
        {
          "output_type": "stream",
          "name": "stdout",
          "text": [
            "ATR (RMA-based) column added and saved to /content/drive/My Drive/5min_data_2024.csv\n"
          ]
        },
        {
          "output_type": "execute_result",
          "data": {
            "text/plain": [
              "'/content/drive/My Drive/5min_data_2024.csv'"
            ],
            "application/vnd.google.colaboratory.intrinsic+json": {
              "type": "string"
            }
          },
          "metadata": {},
          "execution_count": 7
        }
      ]
    },
    {
      "cell_type": "markdown",
      "source": [
        "Calculate initial upper band"
      ],
      "metadata": {
        "id": "D5B6PJRI4tGB"
      }
    },
    {
      "cell_type": "code",
      "source": [
        "import pandas as pd\n",
        "\n",
        "def add_initial_upper_band_to_csv(file_path):\n",
        "    \"\"\"\n",
        "    Calculate the Initial Upper Band and add it as a column to the CSV file.\n",
        "\n",
        "    Args:\n",
        "        file_path (str): Path to the 5-minute CSV file.\n",
        "\n",
        "    Returns:\n",
        "        str: Path to the updated CSV file.\n",
        "    \"\"\"\n",
        "    try:\n",
        "        # Load the CSV file\n",
        "        df = pd.read_csv(file_path, parse_dates=['date'], index_col='date')\n",
        "\n",
        "        # Ensure required columns are present\n",
        "        if 'hl2' not in df.columns or 'atr' not in df.columns:\n",
        "            raise ValueError(\"Required columns 'hl2' or 'atr' not found in the CSV file. Make sure HL2 and ATR are calculated first.\")\n",
        "\n",
        "        # Calculate Initial Upper Band\n",
        "        df['initial_upper_band'] = df['hl2'] + df['atr']\n",
        "\n",
        "        # Save the updated DataFrame back to the CSV file\n",
        "        df.to_csv(file_path)\n",
        "        print(f\"Initial Upper Band column added and saved to {file_path}\")\n",
        "        return file_path\n",
        "    except Exception as e:\n",
        "        print(f\"Error while adding Initial Upper Band: {e}\")\n",
        "        return None\n",
        "\n",
        "# Path to the 5-minute CSV file\n",
        "file_path = \"/content/drive/My Drive/5min_data_2024.csv\"  # Updated file name\n",
        "\n",
        "# Add Initial Upper Band to the CSV file\n",
        "add_initial_upper_band_to_csv(file_path)\n"
      ],
      "metadata": {
        "colab": {
          "base_uri": "https://localhost:8080/",
          "height": 53
        },
        "id": "fmSWmHQ-4uiG",
        "outputId": "934c3631-816e-4c25-fef0-77c1ed981c15"
      },
      "execution_count": 8,
      "outputs": [
        {
          "output_type": "stream",
          "name": "stdout",
          "text": [
            "Initial Upper Band column added and saved to /content/drive/My Drive/5min_data_2024.csv\n"
          ]
        },
        {
          "output_type": "execute_result",
          "data": {
            "text/plain": [
              "'/content/drive/My Drive/5min_data_2024.csv'"
            ],
            "application/vnd.google.colaboratory.intrinsic+json": {
              "type": "string"
            }
          },
          "metadata": {},
          "execution_count": 8
        }
      ]
    },
    {
      "cell_type": "markdown",
      "source": [
        "Calculate initial lower band"
      ],
      "metadata": {
        "id": "G4v2glUp6HyV"
      }
    },
    {
      "cell_type": "code",
      "source": [
        "import pandas as pd\n",
        "\n",
        "def add_initial_lower_band_to_csv(file_path):\n",
        "    \"\"\"\n",
        "    Calculate the Initial Lower Band and add it as a column to the CSV file.\n",
        "\n",
        "    Args:\n",
        "        file_path (str): Path to the 5-minute CSV file.\n",
        "\n",
        "    Returns:\n",
        "        str: Path to the updated CSV file.\n",
        "    \"\"\"\n",
        "    try:\n",
        "        # Load the CSV file\n",
        "        df = pd.read_csv(file_path, parse_dates=['date'], index_col='date')\n",
        "\n",
        "        # Ensure required columns are present\n",
        "        if 'hl2' not in df.columns or 'atr' not in df.columns:\n",
        "            raise ValueError(\"Required columns 'hl2' or 'atr' not found in the CSV file. Make sure HL2 and ATR are calculated first.\")\n",
        "\n",
        "        # Calculate Initial Lower Band\n",
        "        df['initial_lower_band'] = df['hl2'] - df['atr']\n",
        "\n",
        "        # Save the updated DataFrame back to the CSV file\n",
        "        df.to_csv(file_path)\n",
        "        print(f\"Initial Lower Band column added and saved to {file_path}\")\n",
        "        return file_path\n",
        "    except Exception as e:\n",
        "        print(f\"Error while adding Initial Lower Band: {e}\")\n",
        "        return None\n",
        "\n",
        "# Path to the 5-minute CSV file\n",
        "file_path = \"/content/drive/My Drive/5min_data_2024.csv\"  # Updated file name\n",
        "\n",
        "# Add Initial Lower Band to the CSV file\n",
        "add_initial_lower_band_to_csv(file_path)\n"
      ],
      "metadata": {
        "colab": {
          "base_uri": "https://localhost:8080/",
          "height": 53
        },
        "id": "vyva7vqg6XEq",
        "outputId": "eb7e1c3f-d867-4ccd-ba54-2b8d05404eb2"
      },
      "execution_count": 9,
      "outputs": [
        {
          "output_type": "stream",
          "name": "stdout",
          "text": [
            "Initial Lower Band column added and saved to /content/drive/My Drive/5min_data_2024.csv\n"
          ]
        },
        {
          "output_type": "execute_result",
          "data": {
            "text/plain": [
              "'/content/drive/My Drive/5min_data_2024.csv'"
            ],
            "application/vnd.google.colaboratory.intrinsic+json": {
              "type": "string"
            }
          },
          "metadata": {},
          "execution_count": 9
        }
      ]
    },
    {
      "cell_type": "markdown",
      "source": [
        "Calculate supertrend upper band"
      ],
      "metadata": {
        "id": "KG0gYAxl6Yvw"
      }
    },
    {
      "cell_type": "code",
      "source": [
        "import pandas as pd\n",
        "\n",
        "def add_supertrend_upper_band_to_csv(file_path):\n",
        "    \"\"\"\n",
        "    Calculate the Dynamic Supertrend Upper Band using the previous close\n",
        "    and add it as a column to the CSV file.\n",
        "\n",
        "    Args:\n",
        "        file_path (str): Path to the 5-minute CSV file.\n",
        "\n",
        "    Returns:\n",
        "        str: Path to the updated CSV file.\n",
        "    \"\"\"\n",
        "    try:\n",
        "        # Load the CSV file\n",
        "        df = pd.read_csv(file_path, parse_dates=['date'], index_col='date')\n",
        "\n",
        "        # Ensure required columns are present\n",
        "        if 'initial_upper_band' not in df.columns:\n",
        "            raise ValueError(\"Required column 'initial_upper_band' not found in the CSV file. Make sure Initial Upper Band is calculated first.\")\n",
        "\n",
        "        if 'close' not in df.columns:\n",
        "            raise ValueError(\"Required column 'close' not found in the CSV file. Ensure that the CSV contains OHLC data.\")\n",
        "\n",
        "        # Initialize the Dynamic Supertrend Upper Band column\n",
        "        df['supertrend_upper'] = 0.0\n",
        "\n",
        "        # Calculate the Dynamic Supertrend Upper Band\n",
        "        for i in range(len(df)):\n",
        "            if i == 0:\n",
        "                # For the first row, set the Supertrend Upper Band to the Initial Upper Band\n",
        "                df.at[df.index[i], 'supertrend_upper'] = df.at[df.index[i], 'initial_upper_band']\n",
        "            else:\n",
        "                prev_supertrend_upper = df.at[df.index[i - 1], 'supertrend_upper']\n",
        "                initial_upper = df.at[df.index[i], 'initial_upper_band']\n",
        "                prev_close = df.at[df.index[i - 1], 'close']  # Use the previous close price\n",
        "\n",
        "                # Apply the logic for dynamic adjustment\n",
        "                if prev_close < prev_supertrend_upper:\n",
        "                    df.at[df.index[i], 'supertrend_upper'] = min(initial_upper, prev_supertrend_upper)\n",
        "                else:\n",
        "                    df.at[df.index[i], 'supertrend_upper'] = initial_upper\n",
        "\n",
        "        # Save the updated DataFrame back to the CSV file\n",
        "        df.to_csv(file_path)\n",
        "        print(f\"Dynamic Supertrend Upper Band column added and saved to {file_path}\")\n",
        "        return file_path\n",
        "    except Exception as e:\n",
        "        print(f\"Error while adding Dynamic Supertrend Upper Band: {e}\")\n",
        "        return None\n",
        "\n",
        "# Path to the 5-minute CSV file\n",
        "file_path = \"/content/drive/My Drive/5min_data_2024.csv\"  # Updated file name\n",
        "\n",
        "# Add Dynamic Supertrend Upper Band to the CSV file\n",
        "add_supertrend_upper_band_to_csv(file_path)\n"
      ],
      "metadata": {
        "colab": {
          "base_uri": "https://localhost:8080/",
          "height": 53
        },
        "id": "Zq7ZolYL6vuh",
        "outputId": "15226e93-dac2-433e-f8d2-1d9156eda921"
      },
      "execution_count": 10,
      "outputs": [
        {
          "output_type": "stream",
          "name": "stdout",
          "text": [
            "Dynamic Supertrend Upper Band column added and saved to /content/drive/My Drive/5min_data_2024.csv\n"
          ]
        },
        {
          "output_type": "execute_result",
          "data": {
            "text/plain": [
              "'/content/drive/My Drive/5min_data_2024.csv'"
            ],
            "application/vnd.google.colaboratory.intrinsic+json": {
              "type": "string"
            }
          },
          "metadata": {},
          "execution_count": 10
        }
      ]
    },
    {
      "cell_type": "markdown",
      "source": [
        "Calculate supertrend lower band"
      ],
      "metadata": {
        "id": "jSy2Ey1r63ka"
      }
    },
    {
      "cell_type": "code",
      "source": [
        "import pandas as pd\n",
        "\n",
        "def add_supertrend_lower_band_to_csv(file_path):\n",
        "    \"\"\"\n",
        "    Calculate the Dynamic Supertrend Lower Band using the previous close\n",
        "    and add it as a column to the CSV file.\n",
        "\n",
        "    Args:\n",
        "        file_path (str): Path to the 5-minute CSV file.\n",
        "\n",
        "    Returns:\n",
        "        str: Path to the updated CSV file.\n",
        "    \"\"\"\n",
        "    try:\n",
        "        # Load the CSV file\n",
        "        df = pd.read_csv(file_path, parse_dates=['date'], index_col='date')\n",
        "\n",
        "        # Ensure required columns are present\n",
        "        if 'initial_lower_band' not in df.columns:\n",
        "            raise ValueError(\"Required column 'initial_lower_band' not found in the CSV file. Make sure Initial Lower Band is calculated first.\")\n",
        "\n",
        "        if 'close' not in df.columns:\n",
        "            raise ValueError(\"Required column 'close' not found in the CSV file. Ensure that the CSV contains OHLC data.\")\n",
        "\n",
        "        # Initialize the Dynamic Supertrend Lower Band column\n",
        "        df['supertrend_lower'] = 0.0\n",
        "\n",
        "        # Calculate the Dynamic Supertrend Lower Band\n",
        "        for i in range(len(df)):\n",
        "            if i == 0:\n",
        "                # For the first row, set the Supertrend Lower Band to the Initial Lower Band\n",
        "                df.at[df.index[i], 'supertrend_lower'] = df.at[df.index[i], 'initial_lower_band']\n",
        "            else:\n",
        "                prev_supertrend_lower = df.at[df.index[i - 1], 'supertrend_lower']\n",
        "                initial_lower = df.at[df.index[i], 'initial_lower_band']\n",
        "                prev_close = df.at[df.index[i - 1], 'close']  # Use the previous close price\n",
        "\n",
        "                # Apply the logic for dynamic adjustment\n",
        "                if prev_close >= prev_supertrend_lower:\n",
        "                    df.at[df.index[i], 'supertrend_lower'] = max(initial_lower, prev_supertrend_lower)\n",
        "                else:\n",
        "                    df.at[df.index[i], 'supertrend_lower'] = initial_lower\n",
        "\n",
        "        # Save the updated DataFrame back to the CSV file\n",
        "        df.to_csv(file_path)\n",
        "        print(f\"Dynamic Supertrend Lower Band column added and saved to {file_path}\")\n",
        "        return file_path\n",
        "    except Exception as e:\n",
        "        print(f\"Error while adding Dynamic Supertrend Lower Band: {e}\")\n",
        "        return None\n",
        "\n",
        "# Path to the 5-minute CSV file\n",
        "file_path = \"/content/drive/My Drive/5min_data_2024.csv\"  # Updated file name\n",
        "\n",
        "# Add Dynamic Supertrend Lower Band to the CSV file\n",
        "add_supertrend_lower_band_to_csv(file_path)\n"
      ],
      "metadata": {
        "colab": {
          "base_uri": "https://localhost:8080/",
          "height": 53
        },
        "id": "GM0yki2u65vJ",
        "outputId": "88587bcc-7fdc-40ff-a561-8d059e649995"
      },
      "execution_count": 11,
      "outputs": [
        {
          "output_type": "stream",
          "name": "stdout",
          "text": [
            "Dynamic Supertrend Lower Band column added and saved to /content/drive/My Drive/5min_data_2024.csv\n"
          ]
        },
        {
          "output_type": "execute_result",
          "data": {
            "text/plain": [
              "'/content/drive/My Drive/5min_data_2024.csv'"
            ],
            "application/vnd.google.colaboratory.intrinsic+json": {
              "type": "string"
            }
          },
          "metadata": {},
          "execution_count": 11
        }
      ]
    },
    {
      "cell_type": "markdown",
      "source": [
        "Calculate oscillation state"
      ],
      "metadata": {
        "id": "lLOtqvp27Xr6"
      }
    },
    {
      "cell_type": "code",
      "source": [
        "import pandas as pd\n",
        "\n",
        "def add_os_to_csv(file_path):\n",
        "    \"\"\"\n",
        "    Calculate the Oscillation State (os) using current row data\n",
        "    and add it as a column to the CSV file.\n",
        "\n",
        "    Args:\n",
        "        file_path (str): Path to the 5-minute CSV file.\n",
        "\n",
        "    Returns:\n",
        "        str: Path to the updated CSV file.\n",
        "    \"\"\"\n",
        "    try:\n",
        "        # Load the CSV file\n",
        "        df = pd.read_csv(file_path, parse_dates=['date'], index_col='date')\n",
        "\n",
        "        # Ensure required columns are present\n",
        "        if 'supertrend_upper' not in df.columns or 'supertrend_lower' not in df.columns:\n",
        "            raise ValueError(\"Required columns 'supertrend_upper' or 'supertrend_lower' not found in the CSV file. Make sure Dynamic Supertrend Bands are calculated first.\")\n",
        "\n",
        "        if 'close' not in df.columns:\n",
        "            raise ValueError(\"Required column 'close' not found in the CSV file. Ensure that the CSV contains OHLC data.\")\n",
        "\n",
        "        # Initialize the Oscillation State column\n",
        "        df['os'] = 0  # Default to bearish\n",
        "\n",
        "        # Calculate the Oscillation State\n",
        "        for i in range(len(df)):\n",
        "            close = df.at[df.index[i], 'close']\n",
        "            upper_band = df.at[df.index[i], 'supertrend_upper']\n",
        "            lower_band = df.at[df.index[i], 'supertrend_lower']\n",
        "\n",
        "            # Compare the current close with the current bands\n",
        "            if close > upper_band:\n",
        "                df.at[df.index[i], 'os'] = 1  # Bullish\n",
        "            elif close < lower_band:\n",
        "                df.at[df.index[i], 'os'] = 0  # Bearish\n",
        "            else:\n",
        "                if i > 0:\n",
        "                    # Retain the previous state if close is between the bands\n",
        "                    df.at[df.index[i], 'os'] = df.at[df.index[i - 1], 'os']\n",
        "                else:\n",
        "                    # For the first row, default to bearish if between bands\n",
        "                    df.at[df.index[i], 'os'] = 0\n",
        "\n",
        "        # Save the updated DataFrame back to the CSV file\n",
        "        df.to_csv(file_path)\n",
        "        print(f\"Oscillation State column added and saved to {file_path}\")\n",
        "        return file_path\n",
        "    except Exception as e:\n",
        "        print(f\"Error while adding Oscillation State: {e}\")\n",
        "        return None\n",
        "\n",
        "# Path to the 5-minute CSV file\n",
        "file_path = \"/content/drive/My Drive/5min_data_2024.csv\"  # Updated file name\n",
        "\n",
        "# Add Oscillation State to the CSV file\n",
        "add_os_to_csv(file_path)\n"
      ],
      "metadata": {
        "colab": {
          "base_uri": "https://localhost:8080/",
          "height": 53
        },
        "id": "TQLPnDjJ7fbD",
        "outputId": "da5f3c28-b208-4e2b-cdb8-b4a966d86af0"
      },
      "execution_count": 12,
      "outputs": [
        {
          "output_type": "stream",
          "name": "stdout",
          "text": [
            "Oscillation State column added and saved to /content/drive/My Drive/5min_data_2024.csv\n"
          ]
        },
        {
          "output_type": "execute_result",
          "data": {
            "text/plain": [
              "'/content/drive/My Drive/5min_data_2024.csv'"
            ],
            "application/vnd.google.colaboratory.intrinsic+json": {
              "type": "string"
            }
          },
          "metadata": {},
          "execution_count": 12
        }
      ]
    },
    {
      "cell_type": "markdown",
      "source": [
        "Calculate supertrend pivot"
      ],
      "metadata": {
        "id": "EEcH8HVz7rzO"
      }
    },
    {
      "cell_type": "code",
      "source": [
        "import pandas as pd\n",
        "\n",
        "def add_supertrend_pivot_to_csv(file_path):\n",
        "    \"\"\"\n",
        "    Calculate the Supertrend Pivot (spt) and add it as a column to the CSV file.\n",
        "\n",
        "    Args:\n",
        "        file_path (str): Path to the 5-minute CSV file.\n",
        "\n",
        "    Returns:\n",
        "        str: Path to the updated CSV file.\n",
        "    \"\"\"\n",
        "    try:\n",
        "        # Load the CSV file\n",
        "        df = pd.read_csv(file_path, parse_dates=['date'], index_col='date')\n",
        "\n",
        "        # Ensure required columns are present\n",
        "        if 'os' not in df.columns:\n",
        "            raise ValueError(\"Required column 'os' not found in the CSV file. Make sure Oscillation State is calculated first.\")\n",
        "\n",
        "        if 'supertrend_upper' not in df.columns or 'supertrend_lower' not in df.columns:\n",
        "            raise ValueError(\"Required columns 'supertrend_upper' or 'supertrend_lower' not found in the CSV file. Make sure Dynamic Supertrend Bands are calculated first.\")\n",
        "\n",
        "        # Initialize the Supertrend Pivot column\n",
        "        df['spt'] = 0.0\n",
        "\n",
        "        # Calculate the Supertrend Pivot\n",
        "        for i in range(len(df)):\n",
        "            os = df.at[df.index[i], 'os']\n",
        "            if os == 1:\n",
        "                # Bullish: Use the Supertrend Lower Band as the pivot\n",
        "                df.at[df.index[i], 'spt'] = df.at[df.index[i], 'supertrend_lower']\n",
        "            else:\n",
        "                # Bearish: Use the Supertrend Upper Band as the pivot\n",
        "                df.at[df.index[i], 'spt'] = df.at[df.index[i], 'supertrend_upper']\n",
        "\n",
        "        # Save the updated DataFrame back to the CSV file\n",
        "        df.to_csv(file_path)\n",
        "        print(f\"Supertrend Pivot column added and saved to {file_path}\")\n",
        "        return file_path\n",
        "    except Exception as e:\n",
        "        print(f\"Error while adding Supertrend Pivot: {e}\")\n",
        "        return None\n",
        "\n",
        "# Path to the 5-minute CSV file\n",
        "file_path = \"/content/drive/My Drive/5min_data_2024.csv\"  # Updated file name\n",
        "\n",
        "# Add Supertrend Pivot to the CSV file\n",
        "add_supertrend_pivot_to_csv(file_path)\n"
      ],
      "metadata": {
        "colab": {
          "base_uri": "https://localhost:8080/",
          "height": 53
        },
        "id": "gO5yQf378liF",
        "outputId": "53f6133d-893e-4b6e-8740-4891b8ef442d"
      },
      "execution_count": 13,
      "outputs": [
        {
          "output_type": "stream",
          "name": "stdout",
          "text": [
            "Supertrend Pivot column added and saved to /content/drive/My Drive/5min_data_2024.csv\n"
          ]
        },
        {
          "output_type": "execute_result",
          "data": {
            "text/plain": [
              "'/content/drive/My Drive/5min_data_2024.csv'"
            ],
            "application/vnd.google.colaboratory.intrinsic+json": {
              "type": "string"
            }
          },
          "metadata": {},
          "execution_count": 13
        }
      ]
    },
    {
      "cell_type": "markdown",
      "source": [
        "Calculate max channel"
      ],
      "metadata": {
        "id": "ijKcFAAV8oO7"
      }
    },
    {
      "cell_type": "code",
      "source": [
        "import pandas as pd\n",
        "\n",
        "def add_max_channel_to_csv(file_path):\n",
        "    \"\"\"\n",
        "    Calculate the Max Channel incorporating the Supertrend Pivot (spt)\n",
        "    and add it as a column to the CSV file.\n",
        "\n",
        "    Args:\n",
        "        file_path (str): Path to the 5-minute CSV file.\n",
        "\n",
        "    Returns:\n",
        "        str: Path to the updated CSV file.\n",
        "    \"\"\"\n",
        "    try:\n",
        "        # Load the CSV file\n",
        "        df = pd.read_csv(file_path, parse_dates=['date'], index_col='date')\n",
        "\n",
        "        # Ensure required columns are present\n",
        "        if 'os' not in df.columns or 'close' not in df.columns or 'spt' not in df.columns:\n",
        "            raise ValueError(\"Required columns 'os', 'close', or 'spt' not found in the CSV file. Make sure Oscillation State and Supertrend Pivot are calculated first.\")\n",
        "\n",
        "        # Initialize the Max Channel column\n",
        "        df['max_channel'] = 0.0\n",
        "\n",
        "        # Calculate the Max Channel\n",
        "        for i in range(len(df)):\n",
        "            close = df.at[df.index[i], 'close']\n",
        "            os = df.at[df.index[i], 'os']\n",
        "            spt = df.at[df.index[i], 'spt']\n",
        "\n",
        "            if i == 0:\n",
        "                # Initialize Max Channel for the first row\n",
        "                df.at[df.index[i], 'max_channel'] = close\n",
        "            else:\n",
        "                prev_max_channel = df.at[df.index[i - 1], 'max_channel']\n",
        "                prev_os = df.at[df.index[i - 1], 'os']\n",
        "\n",
        "                if close > spt:  # Price crosses the Supertrend Pivot\n",
        "                    df.at[df.index[i], 'max_channel'] = max(prev_max_channel, close)\n",
        "                elif os == 1:  # Bullish trend\n",
        "                    df.at[df.index[i], 'max_channel'] = max(close, prev_max_channel)\n",
        "                else:  # Bearish trend\n",
        "                    df.at[df.index[i], 'max_channel'] = min(spt, prev_max_channel)\n",
        "\n",
        "        # Save the updated DataFrame back to the CSV file\n",
        "        df.to_csv(file_path)\n",
        "        print(f\"Max Channel column added and saved to {file_path}\")\n",
        "        return file_path\n",
        "    except Exception as e:\n",
        "        print(f\"Error while adding Max Channel: {e}\")\n",
        "        return None\n",
        "\n",
        "# Path to the 5-minute CSV file\n",
        "file_path = \"/content/drive/My Drive/5min_data_2024.csv\"  # Updated file name\n",
        "\n",
        "# Add Max Channel to the CSV file\n",
        "add_max_channel_to_csv(file_path)\n"
      ],
      "metadata": {
        "colab": {
          "base_uri": "https://localhost:8080/",
          "height": 53
        },
        "id": "nOikRfMa8zFh",
        "outputId": "0d26f1f8-e713-4c14-a0ba-2f02e88e3bd6"
      },
      "execution_count": 14,
      "outputs": [
        {
          "output_type": "stream",
          "name": "stdout",
          "text": [
            "Max Channel column added and saved to /content/drive/My Drive/5min_data_2024.csv\n"
          ]
        },
        {
          "output_type": "execute_result",
          "data": {
            "text/plain": [
              "'/content/drive/My Drive/5min_data_2024.csv'"
            ],
            "application/vnd.google.colaboratory.intrinsic+json": {
              "type": "string"
            }
          },
          "metadata": {},
          "execution_count": 14
        }
      ]
    },
    {
      "cell_type": "markdown",
      "source": [
        "Calculate min channel"
      ],
      "metadata": {
        "id": "r6YuuWV-88hL"
      }
    },
    {
      "cell_type": "code",
      "source": [
        "import pandas as pd\n",
        "\n",
        "def add_min_channel_to_csv(file_path):\n",
        "    \"\"\"\n",
        "    Calculate the Min Channel incorporating the Supertrend Pivot (spt)\n",
        "    and add it as a column to the CSV file.\n",
        "\n",
        "    Args:\n",
        "        file_path (str): Path to the 5-minute CSV file.\n",
        "\n",
        "    Returns:\n",
        "        str: Path to the updated CSV file.\n",
        "    \"\"\"\n",
        "    try:\n",
        "        # Load the CSV file\n",
        "        df = pd.read_csv(file_path, parse_dates=['date'], index_col='date')\n",
        "\n",
        "        # Ensure required columns are present\n",
        "        if 'os' not in df.columns or 'close' not in df.columns or 'spt' not in df.columns:\n",
        "            raise ValueError(\"Required columns 'os', 'close', or 'spt' not found in the CSV file. Make sure Oscillation State and Supertrend Pivot are calculated first.\")\n",
        "\n",
        "        # Initialize the Min Channel column\n",
        "        df['min_channel'] = 0.0\n",
        "\n",
        "        # Calculate the Min Channel\n",
        "        for i in range(len(df)):\n",
        "            close = df.at[df.index[i], 'close']\n",
        "            os = df.at[df.index[i], 'os']\n",
        "            spt = df.at[df.index[i], 'spt']\n",
        "\n",
        "            if i == 0:\n",
        "                # Initialize Min Channel for the first row\n",
        "                df.at[df.index[i], 'min_channel'] = close\n",
        "            else:\n",
        "                prev_min_channel = df.at[df.index[i - 1], 'min_channel']\n",
        "                prev_os = df.at[df.index[i - 1], 'os']\n",
        "\n",
        "                if close < spt:  # Price crosses the Supertrend Pivot\n",
        "                    df.at[df.index[i], 'min_channel'] = min(prev_min_channel, close)\n",
        "                elif os == 0:  # Bearish trend\n",
        "                    df.at[df.index[i], 'min_channel'] = min(close, prev_min_channel)\n",
        "                else:  # Bullish trend\n",
        "                    df.at[df.index[i], 'min_channel'] = max(spt, prev_min_channel)\n",
        "\n",
        "        # Save the updated DataFrame back to the CSV file\n",
        "        df.to_csv(file_path)\n",
        "        print(f\"Min Channel column added and saved to {file_path}\")\n",
        "        return file_path\n",
        "    except Exception as e:\n",
        "        print(f\"Error while adding Min Channel: {e}\")\n",
        "        return None\n",
        "\n",
        "# Path to the 5-minute CSV file\n",
        "file_path = \"/content/drive/My Drive/5min_data_2024.csv\"  # Updated file name\n",
        "\n",
        "# Add Min Channel to the CSV file\n",
        "add_min_channel_to_csv(file_path)\n"
      ],
      "metadata": {
        "colab": {
          "base_uri": "https://localhost:8080/",
          "height": 53
        },
        "id": "my-Yue7D9PCm",
        "outputId": "fd457304-68a4-4f83-dbd2-574439e90f06"
      },
      "execution_count": 15,
      "outputs": [
        {
          "output_type": "stream",
          "name": "stdout",
          "text": [
            "Min Channel column added and saved to /content/drive/My Drive/5min_data_2024.csv\n"
          ]
        },
        {
          "output_type": "execute_result",
          "data": {
            "text/plain": [
              "'/content/drive/My Drive/5min_data_2024.csv'"
            ],
            "application/vnd.google.colaboratory.intrinsic+json": {
              "type": "string"
            }
          },
          "metadata": {},
          "execution_count": 15
        }
      ]
    },
    {
      "cell_type": "markdown",
      "source": [
        "Calculate supertrend average channel"
      ],
      "metadata": {
        "id": "LQBQzwa89k7p"
      }
    },
    {
      "cell_type": "code",
      "source": [
        "import pandas as pd\n",
        "\n",
        "def add_supertrend_avg_to_csv(file_path):\n",
        "    \"\"\"\n",
        "    Calculate the Supertrend Average Channel using Max and Min Channels,\n",
        "    and add it as a column to the CSV file.\n",
        "\n",
        "    Args:\n",
        "        file_path (str): Path to the 5-minute CSV file.\n",
        "\n",
        "    Returns:\n",
        "        str: Path to the updated CSV file.\n",
        "    \"\"\"\n",
        "    try:\n",
        "        # Load the CSV file\n",
        "        df = pd.read_csv(file_path, parse_dates=['date'], index_col='date')\n",
        "\n",
        "        # Ensure required columns are present\n",
        "        if 'max_channel' not in df.columns or 'min_channel' not in df.columns:\n",
        "            raise ValueError(\"Required columns 'max_channel' or 'min_channel' not found in the CSV file. Make sure Max and Min Channels are calculated first.\")\n",
        "\n",
        "        # Calculate the Supertrend Average Channel\n",
        "        df['supertrend_avg'] = (df['max_channel'] + df['min_channel']) / 2\n",
        "\n",
        "        # Save the updated DataFrame back to the CSV file\n",
        "        df.to_csv(file_path)\n",
        "        print(f\"Supertrend Average Channel column added and saved to {file_path}\")\n",
        "        return file_path\n",
        "    except Exception as e:\n",
        "        print(f\"Error while adding Supertrend Average Channel: {e}\")\n",
        "        return None\n",
        "\n",
        "# Path to the 5-minute CSV file\n",
        "file_path = \"/content/drive/My Drive/5min_data_2024.csv\"  # Updated file name\n",
        "\n",
        "# Add Supertrend Average Channel to the CSV file\n",
        "add_supertrend_avg_to_csv(file_path)\n"
      ],
      "metadata": {
        "colab": {
          "base_uri": "https://localhost:8080/",
          "height": 53
        },
        "id": "aZuzfNSH9nJr",
        "outputId": "f337c534-0379-44f7-804b-85e08f76626d"
      },
      "execution_count": 16,
      "outputs": [
        {
          "output_type": "stream",
          "name": "stdout",
          "text": [
            "Supertrend Average Channel column added and saved to /content/drive/My Drive/5min_data_2024.csv\n"
          ]
        },
        {
          "output_type": "execute_result",
          "data": {
            "text/plain": [
              "'/content/drive/My Drive/5min_data_2024.csv'"
            ],
            "application/vnd.google.colaboratory.intrinsic+json": {
              "type": "string"
            }
          },
          "metadata": {},
          "execution_count": 16
        }
      ]
    },
    {
      "cell_type": "markdown",
      "source": [
        "Calculate 5WMA"
      ],
      "metadata": {
        "id": "akImVmz5-KxF"
      }
    },
    {
      "cell_type": "code",
      "source": [
        "import pandas as pd\n",
        "\n",
        "def add_5wma_to_csv(file_path):\n",
        "    \"\"\"\n",
        "    Calculate the 5-period Weighted Moving Average (5WMA) and add it as a column to the CSV file.\n",
        "    For the first 4 rows where 5WMA cannot be computed, use the 'close' price as the value.\n",
        "\n",
        "    Args:\n",
        "        file_path (str): Path to the 5-minute CSV file.\n",
        "\n",
        "    Returns:\n",
        "        str: Path to the updated CSV file.\n",
        "    \"\"\"\n",
        "    try:\n",
        "        # Load the CSV file\n",
        "        df = pd.read_csv(file_path, parse_dates=['date'], index_col='date')\n",
        "\n",
        "        # Ensure the 'close' column is present\n",
        "        if 'close' not in df.columns:\n",
        "            raise ValueError(\"Required column 'close' not found in the CSV file. Please ensure the data contains a 'close' column.\")\n",
        "\n",
        "        # Calculate the 5-period Weighted Moving Average (5WMA)\n",
        "        weights = [1, 2, 3, 4, 5]\n",
        "        df['5wma'] = df['close'].rolling(window=5).apply(lambda x: sum(w * c for w, c in zip(weights, x)) / sum(weights), raw=True)\n",
        "\n",
        "        # Replace the first 4 NaN values with the corresponding close price\n",
        "        df['5wma'].fillna(df['close'], inplace=True)\n",
        "\n",
        "        # Save the updated DataFrame back to the CSV file\n",
        "        df.to_csv(file_path)\n",
        "        print(f\"5WMA column added and saved to {file_path}\")\n",
        "        return file_path\n",
        "    except Exception as e:\n",
        "        print(f\"Error while adding 5WMA: {e}\")\n",
        "        return None\n",
        "\n",
        "# Path to the 5-minute CSV file\n",
        "file_path = \"/content/drive/My Drive/5min_data_2024.csv\"  # Updated file name\n",
        "\n",
        "# Add 5WMA to the CSV file\n",
        "add_5wma_to_csv(file_path)\n"
      ],
      "metadata": {
        "colab": {
          "base_uri": "https://localhost:8080/",
          "height": 198
        },
        "id": "iXwFz-8q-OAi",
        "outputId": "08357edb-feed-4b0d-9751-948d2e823e38"
      },
      "execution_count": 17,
      "outputs": [
        {
          "output_type": "stream",
          "name": "stderr",
          "text": [
            "<ipython-input-17-30c8c7860bd2>:27: FutureWarning: A value is trying to be set on a copy of a DataFrame or Series through chained assignment using an inplace method.\n",
            "The behavior will change in pandas 3.0. This inplace method will never work because the intermediate object on which we are setting values always behaves as a copy.\n",
            "\n",
            "For example, when doing 'df[col].method(value, inplace=True)', try using 'df.method({col: value}, inplace=True)' or df[col] = df[col].method(value) instead, to perform the operation inplace on the original object.\n",
            "\n",
            "\n",
            "  df['5wma'].fillna(df['close'], inplace=True)\n"
          ]
        },
        {
          "output_type": "stream",
          "name": "stdout",
          "text": [
            "5WMA column added and saved to /content/drive/My Drive/5min_data_2024.csv\n"
          ]
        },
        {
          "output_type": "execute_result",
          "data": {
            "text/plain": [
              "'/content/drive/My Drive/5min_data_2024.csv'"
            ],
            "application/vnd.google.colaboratory.intrinsic+json": {
              "type": "string"
            }
          },
          "metadata": {},
          "execution_count": 17
        }
      ]
    },
    {
      "cell_type": "markdown",
      "source": [
        "Add new cols to 1min csv file"
      ],
      "metadata": {
        "id": "MQiBKfqW_FD0"
      }
    },
    {
      "cell_type": "code",
      "source": [
        "import pandas as pd\n",
        "\n",
        "def add_empty_columns_to_1min_csv(file_path):\n",
        "    \"\"\"\n",
        "    Add empty columns for 5-minute data to the 1-minute CSV file.\n",
        "\n",
        "    Args:\n",
        "        file_path (str): Path to the 1-minute CSV file.\n",
        "\n",
        "    Returns:\n",
        "        str: Path to the updated CSV file.\n",
        "    \"\"\"\n",
        "    try:\n",
        "        # Load the 1-minute CSV file\n",
        "        df = pd.read_csv(file_path, parse_dates=['date'], index_col='date')\n",
        "\n",
        "        # Define the new columns to add (Updated to 5-minute)\n",
        "        new_columns = [\n",
        "            '5min_open', '5min_high', '5min_low', '5min_close',\n",
        "            '5min_max_channel', '5min_min_channel', '5min_supertrend_avg', '5min_5wma'\n",
        "        ]\n",
        "\n",
        "        # Add each column with default values of NaN\n",
        "        for col in new_columns:\n",
        "            if col not in df.columns:  # Avoid duplicate columns\n",
        "                df[col] = float('nan')\n",
        "\n",
        "        # Save the updated DataFrame back to the CSV file\n",
        "        df.to_csv(file_path)\n",
        "        print(f\"New columns added to {file_path}: {', '.join(new_columns)}\")\n",
        "        return file_path\n",
        "    except Exception as e:\n",
        "        print(f\"Error while adding empty columns: {e}\")\n",
        "        return None\n",
        "\n",
        "# Path to the 1-minute CSV file\n",
        "file_path = \"/content/drive/My Drive/new_1min_data_2024.csv\"  # Updated file name\n",
        "\n",
        "# Add empty columns for 5-minute data\n",
        "add_empty_columns_to_1min_csv(file_path)\n"
      ],
      "metadata": {
        "colab": {
          "base_uri": "https://localhost:8080/",
          "height": 73
        },
        "id": "geGUZoeL_D7q",
        "outputId": "c68a4527-a066-474e-ba78-98b36e0a4ae5"
      },
      "execution_count": 18,
      "outputs": [
        {
          "output_type": "stream",
          "name": "stdout",
          "text": [
            "New columns added to /content/drive/My Drive/new_1min_data_2024.csv: 5min_open, 5min_high, 5min_low, 5min_close, 5min_max_channel, 5min_min_channel, 5min_supertrend_avg, 5min_5wma\n"
          ]
        },
        {
          "output_type": "execute_result",
          "data": {
            "text/plain": [
              "'/content/drive/My Drive/new_1min_data_2024.csv'"
            ],
            "application/vnd.google.colaboratory.intrinsic+json": {
              "type": "string"
            }
          },
          "metadata": {},
          "execution_count": 18
        }
      ]
    },
    {
      "cell_type": "markdown",
      "source": [
        "Copy 5min open"
      ],
      "metadata": {
        "id": "sy2u4q5g_Kcl"
      }
    },
    {
      "cell_type": "code",
      "source": [
        "import pandas as pd\n",
        "\n",
        "def copy_5min_open_to_1min(file_1min, file_5min):\n",
        "    \"\"\"\n",
        "    Copies the 5-minute open values to the 1-minute CSV file.\n",
        "\n",
        "    Args:\n",
        "        file_1min (str): Path to the 1-minute CSV file.\n",
        "        file_5min (str): Path to the 5-minute CSV file.\n",
        "\n",
        "    Returns:\n",
        "        str: Path to the updated 1-minute CSV file.\n",
        "    \"\"\"\n",
        "    try:\n",
        "        # Load the 1-minute and 5-minute CSV files\n",
        "        df_1min = pd.read_csv(file_1min, header=0)\n",
        "        df_5min = pd.read_csv(file_5min, header=0)\n",
        "\n",
        "        # Convert the first column in both files to datetime\n",
        "        df_1min.iloc[:, 0] = pd.to_datetime(df_1min.iloc[:, 0], errors='coerce')\n",
        "        df_5min.iloc[:, 0] = pd.to_datetime(df_5min.iloc[:, 0], errors='coerce')\n",
        "\n",
        "        # Set the timestamp columns as the index\n",
        "        df_1min.set_index(df_1min.columns[0], inplace=True)\n",
        "        df_5min.set_index(df_5min.columns[0], inplace=True)\n",
        "\n",
        "        # Add a new column in the 1-minute file for 5min_open if it doesn't exist\n",
        "        if '5min_open' not in df_1min.columns:\n",
        "            df_1min['5min_open'] = None\n",
        "\n",
        "        # Iterate through the 5-minute data\n",
        "        for i in range(len(df_5min)):\n",
        "            # Get the current and next timestamps\n",
        "            current_time = df_5min.index[i]\n",
        "            next_time = (\n",
        "                df_5min.index[i + 1] if i + 1 < len(df_5min) else current_time + pd.Timedelta(minutes=5)\n",
        "            )\n",
        "\n",
        "            # Get the open value from the 5-minute row\n",
        "            open_5min = df_5min.iloc[i]['open']  # Assuming the column is named 'open'\n",
        "\n",
        "            # Update all rows in the 1-minute file within the current 5-minute range\n",
        "            df_1min.loc[current_time:next_time - pd.Timedelta(minutes=1), '5min_open'] = open_5min\n",
        "\n",
        "        # Save the updated DataFrame back to the 1-minute CSV file\n",
        "        df_1min.to_csv(file_1min)\n",
        "        print(f\"5min_open column copied and saved to {file_1min}\")\n",
        "        return file_1min\n",
        "\n",
        "    except Exception as e:\n",
        "        print(f\"Error while copying 5min_open column: {e}\")\n",
        "        return None\n",
        "\n",
        "# Paths to the CSV files\n",
        "file_1min = \"/content/drive/My Drive/new_1min_data_2024.csv\"  # Updated 1-minute file\n",
        "file_5min = \"/content/drive/My Drive/5min_data_2024.csv\"  # Updated 5-minute file\n",
        "\n",
        "# Call the function to copy the 5-minute open values\n",
        "copy_5min_open_to_1min(file_1min, file_5min)\n"
      ],
      "metadata": {
        "colab": {
          "base_uri": "https://localhost:8080/",
          "height": 109
        },
        "id": "mUlINl6P_7cW",
        "outputId": "877aa4de-baf5-451f-cd51-88f6bf768f10"
      },
      "execution_count": 19,
      "outputs": [
        {
          "output_type": "stream",
          "name": "stderr",
          "text": [
            "/usr/local/lib/python3.11/dist-packages/pandas/core/indexes/base.py:7588: FutureWarning: Dtype inference on a pandas object (Series, Index, ExtensionArray) is deprecated. The Index constructor will keep the original dtype in the future. Call `infer_objects` on the result to get the old behavior.\n",
            "  return Index(sequences[0], name=names)\n"
          ]
        },
        {
          "output_type": "stream",
          "name": "stdout",
          "text": [
            "5min_open column copied and saved to /content/drive/My Drive/new_1min_data_2024.csv\n"
          ]
        },
        {
          "output_type": "execute_result",
          "data": {
            "text/plain": [
              "'/content/drive/My Drive/new_1min_data_2024.csv'"
            ],
            "application/vnd.google.colaboratory.intrinsic+json": {
              "type": "string"
            }
          },
          "metadata": {},
          "execution_count": 19
        }
      ]
    },
    {
      "cell_type": "markdown",
      "source": [
        "Copy 5min close"
      ],
      "metadata": {
        "id": "nkv8Nn1-__0W"
      }
    },
    {
      "cell_type": "code",
      "source": [
        "import pandas as pd\n",
        "\n",
        "def copy_5min_close_to_1min(file_1min, file_5min, trading_start_time=\"09:15:00\"):\n",
        "    \"\"\"\n",
        "    Copies the 5-minute close values to the 1-minute CSV file and omits the 9:14 AM timestamp\n",
        "    added erroneously after the last trading day.\n",
        "\n",
        "    Args:\n",
        "        file_1min (str): Path to the 1-minute CSV file.\n",
        "        file_5min (str): Path to the 5-minute CSV file.\n",
        "        trading_start_time (str): Start time of the trading session (HH:MM:SS).\n",
        "\n",
        "    Returns:\n",
        "        str: Path to the updated 1-minute CSV file.\n",
        "    \"\"\"\n",
        "    try:\n",
        "        # Load the 1-minute and 5-minute CSV files\n",
        "        df_1min = pd.read_csv(file_1min, header=0)\n",
        "        df_5min = pd.read_csv(file_5min, header=0)\n",
        "\n",
        "        # Convert the first column in both files to datetime\n",
        "        df_1min.iloc[:, 0] = pd.to_datetime(df_1min.iloc[:, 0], errors='coerce')\n",
        "        df_5min.iloc[:, 0] = pd.to_datetime(df_5min.iloc[:, 0], errors='coerce')\n",
        "\n",
        "        # Set the timestamp columns as the index\n",
        "        df_1min.set_index(df_1min.columns[0], inplace=True)\n",
        "        df_5min.set_index(df_5min.columns[0], inplace=True)\n",
        "\n",
        "        # Add a new column in the 1-minute file for 5min_close if it doesn't exist\n",
        "        if '5min_close' not in df_1min.columns:\n",
        "            df_1min['5min_close'] = None\n",
        "\n",
        "        # Iterate through the 5-minute data\n",
        "        for i in range(len(df_5min)):\n",
        "            # Get the current and next timestamps\n",
        "            current_time = df_5min.index[i]\n",
        "            next_time = (\n",
        "                df_5min.index[i + 1] if i + 1 < len(df_5min) else current_time + pd.Timedelta(minutes=5)\n",
        "            )\n",
        "\n",
        "            # Get the close value from the 5-minute row\n",
        "            close_5min = df_5min.iloc[i]['close']  # Assuming the column is named 'close'\n",
        "\n",
        "            # Update all rows in the 1-minute file within the current 5-minute range\n",
        "            df_1min.loc[current_time:next_time - pd.Timedelta(minutes=1), '5min_close'] = close_5min\n",
        "\n",
        "        # Filter out any rows with the 9:14 AM timestamp that appear erroneously\n",
        "        df_1min = df_1min[~((df_1min.index.time == pd.Timestamp(trading_start_time).time()) & (df_1min.index > df_5min.index[-1]))]\n",
        "\n",
        "        # Save the updated DataFrame back to the 1-minute CSV file\n",
        "        df_1min.to_csv(file_1min)\n",
        "        print(f\"5min_close column copied and saved to {file_1min}\")\n",
        "        return file_1min\n",
        "\n",
        "    except Exception as e:\n",
        "        print(f\"Error while copying 5min_close column: {e}\")\n",
        "        return None\n",
        "\n",
        "# Paths to the CSV files\n",
        "file_1min = \"/content/drive/My Drive/new_1min_data_2024.csv\"  # Updated 1-minute file\n",
        "file_5min = \"/content/drive/My Drive/5min_data_2024.csv\"  # Updated 5-minute file\n",
        "\n",
        "# Call the function to copy the 5-minute close values\n",
        "copy_5min_close_to_1min(file_1min, file_5min)\n"
      ],
      "metadata": {
        "colab": {
          "base_uri": "https://localhost:8080/",
          "height": 109
        },
        "id": "jb2cgDH1BFY4",
        "outputId": "dfcb3b1b-4692-4fc2-d246-a6d9f0099be8"
      },
      "execution_count": 20,
      "outputs": [
        {
          "output_type": "stream",
          "name": "stderr",
          "text": [
            "/usr/local/lib/python3.11/dist-packages/pandas/core/indexes/base.py:7588: FutureWarning: Dtype inference on a pandas object (Series, Index, ExtensionArray) is deprecated. The Index constructor will keep the original dtype in the future. Call `infer_objects` on the result to get the old behavior.\n",
            "  return Index(sequences[0], name=names)\n"
          ]
        },
        {
          "output_type": "stream",
          "name": "stdout",
          "text": [
            "5min_close column copied and saved to /content/drive/My Drive/new_1min_data_2024.csv\n"
          ]
        },
        {
          "output_type": "execute_result",
          "data": {
            "text/plain": [
              "'/content/drive/My Drive/new_1min_data_2024.csv'"
            ],
            "application/vnd.google.colaboratory.intrinsic+json": {
              "type": "string"
            }
          },
          "metadata": {},
          "execution_count": 20
        }
      ]
    },
    {
      "cell_type": "markdown",
      "source": [
        "Copy 5min low"
      ],
      "metadata": {
        "id": "Z1CWATSLBRXs"
      }
    },
    {
      "cell_type": "code",
      "source": [
        "import pandas as pd\n",
        "\n",
        "def copy_5min_low_to_1min(file_1min, file_5min, trading_start_time=\"09:15:00\"):\n",
        "    \"\"\"\n",
        "    Copies the 5-minute low values to the 1-minute CSV file.\n",
        "\n",
        "    Args:\n",
        "        file_1min (str): Path to the 1-minute CSV file.\n",
        "        file_5min (str): Path to the 5-minute CSV file.\n",
        "        trading_start_time (str): Start time of the trading session (HH:MM:SS).\n",
        "\n",
        "    Returns:\n",
        "        str: Path to the updated 1-minute CSV file.\n",
        "    \"\"\"\n",
        "    try:\n",
        "        # Load the 1-minute and 5-minute CSV files\n",
        "        df_1min = pd.read_csv(file_1min, header=0)\n",
        "        df_5min = pd.read_csv(file_5min, header=0)\n",
        "\n",
        "        # Convert the first column in both files to datetime\n",
        "        df_1min.iloc[:, 0] = pd.to_datetime(df_1min.iloc[:, 0], errors='coerce')\n",
        "        df_5min.iloc[:, 0] = pd.to_datetime(df_5min.iloc[:, 0], errors='coerce')\n",
        "\n",
        "        # Set the timestamp columns as the index\n",
        "        df_1min.set_index(df_1min.columns[0], inplace=True)\n",
        "        df_5min.set_index(df_5min.columns[0], inplace=True)\n",
        "\n",
        "        # Add a new column in the 1-minute file for 5min_low if it doesn't exist\n",
        "        if '5min_low' not in df_1min.columns:\n",
        "            df_1min['5min_low'] = None\n",
        "\n",
        "        # Iterate through the 5-minute data\n",
        "        for i in range(len(df_5min)):\n",
        "            # Get the current and next timestamps\n",
        "            current_time = df_5min.index[i]\n",
        "            next_time = (\n",
        "                df_5min.index[i + 1] if i + 1 < len(df_5min) else current_time + pd.Timedelta(minutes=5)\n",
        "            )\n",
        "\n",
        "            # Get the low value from the 5-minute row\n",
        "            low_5min = df_5min.iloc[i]['low']  # Assuming the column is named 'low'\n",
        "\n",
        "            # Update all rows in the 1-minute file within the current 5-minute range\n",
        "            df_1min.loc[current_time:next_time - pd.Timedelta(minutes=1), '5min_low'] = low_5min\n",
        "\n",
        "        # Filter out any rows with the 9:14 AM timestamp that appear erroneously\n",
        "        df_1min = df_1min[~((df_1min.index.time == pd.Timestamp(trading_start_time).time()) & (df_1min.index > df_5min.index[-1]))]\n",
        "\n",
        "        # Save the updated DataFrame back to the 1-minute CSV file\n",
        "        df_1min.to_csv(file_1min)\n",
        "        print(f\"5min_low column copied and saved to {file_1min}\")\n",
        "        return file_1min\n",
        "\n",
        "    except Exception as e:\n",
        "        print(f\"Error while copying 5min_low column: {e}\")\n",
        "        return None\n",
        "\n",
        "# Paths to the CSV files\n",
        "file_1min = \"/content/drive/My Drive/new_1min_data_2024.csv\"  # Updated 1-minute file\n",
        "file_5min = \"/content/drive/My Drive/5min_data_2024.csv\"  # Updated 5-minute file\n",
        "\n",
        "# Call the function to copy the 5-minute low values\n",
        "copy_5min_low_to_1min(file_1min, file_5min)\n"
      ],
      "metadata": {
        "colab": {
          "base_uri": "https://localhost:8080/",
          "height": 109
        },
        "id": "tlY7-PSCBSqv",
        "outputId": "6658227c-0baa-4e7e-a9c9-07cefdd793b1"
      },
      "execution_count": 21,
      "outputs": [
        {
          "output_type": "stream",
          "name": "stderr",
          "text": [
            "/usr/local/lib/python3.11/dist-packages/pandas/core/indexes/base.py:7588: FutureWarning: Dtype inference on a pandas object (Series, Index, ExtensionArray) is deprecated. The Index constructor will keep the original dtype in the future. Call `infer_objects` on the result to get the old behavior.\n",
            "  return Index(sequences[0], name=names)\n"
          ]
        },
        {
          "output_type": "stream",
          "name": "stdout",
          "text": [
            "5min_low column copied and saved to /content/drive/My Drive/new_1min_data_2024.csv\n"
          ]
        },
        {
          "output_type": "execute_result",
          "data": {
            "text/plain": [
              "'/content/drive/My Drive/new_1min_data_2024.csv'"
            ],
            "application/vnd.google.colaboratory.intrinsic+json": {
              "type": "string"
            }
          },
          "metadata": {},
          "execution_count": 21
        }
      ]
    },
    {
      "cell_type": "markdown",
      "source": [
        "Copy 5min high"
      ],
      "metadata": {
        "id": "3qdlLgE1BjGZ"
      }
    },
    {
      "cell_type": "code",
      "source": [
        "import pandas as pd\n",
        "\n",
        "def copy_5min_high_to_1min(file_1min, file_5min, trading_start_time=\"09:15:00\"):\n",
        "    \"\"\"\n",
        "    Copies the 5-minute high values to the 1-minute CSV file.\n",
        "\n",
        "    Args:\n",
        "        file_1min (str): Path to the 1-minute CSV file.\n",
        "        file_5min (str): Path to the 5-minute CSV file.\n",
        "        trading_start_time (str): Start time of the trading session (HH:MM:SS).\n",
        "\n",
        "    Returns:\n",
        "        str: Path to the updated 1-minute CSV file.\n",
        "    \"\"\"\n",
        "    try:\n",
        "        # Load the 1-minute and 5-minute CSV files\n",
        "        df_1min = pd.read_csv(file_1min, header=0)\n",
        "        df_5min = pd.read_csv(file_5min, header=0)\n",
        "\n",
        "        # Convert the first column in both files to datetime\n",
        "        df_1min.iloc[:, 0] = pd.to_datetime(df_1min.iloc[:, 0], errors='coerce')\n",
        "        df_5min.iloc[:, 0] = pd.to_datetime(df_5min.iloc[:, 0], errors='coerce')\n",
        "\n",
        "        # Set the timestamp columns as the index\n",
        "        df_1min.set_index(df_1min.columns[0], inplace=True)\n",
        "        df_5min.set_index(df_5min.columns[0], inplace=True)\n",
        "\n",
        "        # Add a new column in the 1-minute file for 5min_high if it doesn't exist\n",
        "        if '5min_high' not in df_1min.columns:\n",
        "            df_1min['5min_high'] = None\n",
        "\n",
        "        # Iterate through the 5-minute data\n",
        "        for i in range(len(df_5min)):\n",
        "            # Get the current and next timestamps\n",
        "            current_time = df_5min.index[i]\n",
        "            next_time = (\n",
        "                df_5min.index[i + 1] if i + 1 < len(df_5min) else current_time + pd.Timedelta(minutes=5)\n",
        "            )\n",
        "\n",
        "            # Get the high value from the 5-minute row\n",
        "            high_5min = df_5min.iloc[i]['high']  # Assuming the column is named 'high'\n",
        "\n",
        "            # Update all rows in the 1-minute file within the current 5-minute range\n",
        "            df_1min.loc[current_time:next_time - pd.Timedelta(minutes=1), '5min_high'] = high_5min\n",
        "\n",
        "        # Filter out any rows with the 9:14 AM timestamp that appear erroneously\n",
        "        df_1min = df_1min[~((df_1min.index.time == pd.Timestamp(trading_start_time).time()) & (df_1min.index > df_5min.index[-1]))]\n",
        "\n",
        "        # Save the updated DataFrame back to the 1-minute CSV file\n",
        "        df_1min.to_csv(file_1min)\n",
        "        print(f\"5min_high column copied and saved to {file_1min}\")\n",
        "        return file_1min\n",
        "\n",
        "    except Exception as e:\n",
        "        print(f\"Error while copying 5min_high column: {e}\")\n",
        "        return None\n",
        "\n",
        "# Paths to the CSV files\n",
        "file_1min = \"/content/drive/My Drive/new_1min_data_2024.csv\"  # Updated 1-minute file\n",
        "file_5min = \"/content/drive/My Drive/5min_data_2024.csv\"  # Updated 5-minute file\n",
        "\n",
        "# Call the function to copy the 5-minute high values\n",
        "copy_5min_high_to_1min(file_1min, file_5min)\n"
      ],
      "metadata": {
        "colab": {
          "base_uri": "https://localhost:8080/",
          "height": 109
        },
        "id": "SlPhry8hBuaB",
        "outputId": "de6b55fc-5729-4e4f-8f17-e2e6e03ab879"
      },
      "execution_count": 22,
      "outputs": [
        {
          "output_type": "stream",
          "name": "stderr",
          "text": [
            "/usr/local/lib/python3.11/dist-packages/pandas/core/indexes/base.py:7588: FutureWarning: Dtype inference on a pandas object (Series, Index, ExtensionArray) is deprecated. The Index constructor will keep the original dtype in the future. Call `infer_objects` on the result to get the old behavior.\n",
            "  return Index(sequences[0], name=names)\n"
          ]
        },
        {
          "output_type": "stream",
          "name": "stdout",
          "text": [
            "5min_high column copied and saved to /content/drive/My Drive/new_1min_data_2024.csv\n"
          ]
        },
        {
          "output_type": "execute_result",
          "data": {
            "text/plain": [
              "'/content/drive/My Drive/new_1min_data_2024.csv'"
            ],
            "application/vnd.google.colaboratory.intrinsic+json": {
              "type": "string"
            }
          },
          "metadata": {},
          "execution_count": 22
        }
      ]
    },
    {
      "cell_type": "markdown",
      "source": [
        "Copy 5min max channel"
      ],
      "metadata": {
        "id": "QWLKPki0CNo3"
      }
    },
    {
      "cell_type": "code",
      "source": [
        "import pandas as pd\n",
        "\n",
        "def copy_5min_max_channel_to_1min(file_1min, file_5min, trading_start_time=\"09:15:00\"):\n",
        "    \"\"\"\n",
        "    Copies the 5-minute max_channel values to the 1-minute CSV file.\n",
        "\n",
        "    Args:\n",
        "        file_1min (str): Path to the 1-minute CSV file.\n",
        "        file_5min (str): Path to the 5-minute CSV file.\n",
        "        trading_start_time (str): Start time of the trading session (HH:MM:SS).\n",
        "\n",
        "    Returns:\n",
        "        str: Path to the updated 1-minute CSV file.\n",
        "    \"\"\"\n",
        "    try:\n",
        "        # Load the 1-minute and 5-minute CSV files\n",
        "        df_1min = pd.read_csv(file_1min, header=0)\n",
        "        df_5min = pd.read_csv(file_5min, header=0)\n",
        "\n",
        "        # Convert the first column in both files to datetime\n",
        "        df_1min.iloc[:, 0] = pd.to_datetime(df_1min.iloc[:, 0], errors='coerce')\n",
        "        df_5min.iloc[:, 0] = pd.to_datetime(df_5min.iloc[:, 0], errors='coerce')\n",
        "\n",
        "        # Set the timestamp columns as the index\n",
        "        df_1min.set_index(df_1min.columns[0], inplace=True)\n",
        "        df_5min.set_index(df_5min.columns[0], inplace=True)\n",
        "\n",
        "        # Add a new column in the 1-minute file for 5min_max_channel if it doesn't exist\n",
        "        if '5min_max_channel' not in df_1min.columns:\n",
        "            df_1min['5min_max_channel'] = None\n",
        "\n",
        "        # Iterate through the 5-minute data\n",
        "        for i in range(len(df_5min)):\n",
        "            # Get the current and next timestamps\n",
        "            current_time = df_5min.index[i]\n",
        "            next_time = (\n",
        "                df_5min.index[i + 1] if i + 1 < len(df_5min) else current_time + pd.Timedelta(minutes=5)\n",
        "            )\n",
        "\n",
        "            # Get the max_channel value from the 5-minute row\n",
        "            max_channel_5min = df_5min.iloc[i]['max_channel']  # Assuming the column is named 'max_channel'\n",
        "\n",
        "            # Update all rows in the 1-minute file within the current 5-minute range\n",
        "            df_1min.loc[current_time:next_time - pd.Timedelta(minutes=1), '5min_max_channel'] = max_channel_5min\n",
        "\n",
        "        # Filter out any rows with the 9:14 AM timestamp that appear erroneously\n",
        "        df_1min = df_1min[~((df_1min.index.time == pd.Timestamp(trading_start_time).time()) & (df_1min.index > df_5min.index[-1]))]\n",
        "\n",
        "        # Save the updated DataFrame back to the 1-minute CSV file\n",
        "        df_1min.to_csv(file_1min)\n",
        "        print(f\"5min_max_channel column copied and saved to {file_1min}\")\n",
        "        return file_1min\n",
        "\n",
        "    except Exception as e:\n",
        "        print(f\"Error while copying 5min_max_channel column: {e}\")\n",
        "        return None\n",
        "\n",
        "# Paths to the CSV files\n",
        "file_1min = \"/content/drive/My Drive/new_1min_data_2024.csv\"  # Updated 1-minute file\n",
        "file_5min = \"/content/drive/My Drive/5min_data_2024.csv\"  # Updated 5-minute file\n",
        "\n",
        "# Call the function to copy the 5-minute max_channel values\n",
        "copy_5min_max_channel_to_1min(file_1min, file_5min)\n"
      ],
      "metadata": {
        "colab": {
          "base_uri": "https://localhost:8080/",
          "height": 109
        },
        "id": "MHVC57UdCPy3",
        "outputId": "d6227b45-dd81-442c-a3ee-2212a2556480"
      },
      "execution_count": 23,
      "outputs": [
        {
          "output_type": "stream",
          "name": "stderr",
          "text": [
            "/usr/local/lib/python3.11/dist-packages/pandas/core/indexes/base.py:7588: FutureWarning: Dtype inference on a pandas object (Series, Index, ExtensionArray) is deprecated. The Index constructor will keep the original dtype in the future. Call `infer_objects` on the result to get the old behavior.\n",
            "  return Index(sequences[0], name=names)\n"
          ]
        },
        {
          "output_type": "stream",
          "name": "stdout",
          "text": [
            "5min_max_channel column copied and saved to /content/drive/My Drive/new_1min_data_2024.csv\n"
          ]
        },
        {
          "output_type": "execute_result",
          "data": {
            "text/plain": [
              "'/content/drive/My Drive/new_1min_data_2024.csv'"
            ],
            "application/vnd.google.colaboratory.intrinsic+json": {
              "type": "string"
            }
          },
          "metadata": {},
          "execution_count": 23
        }
      ]
    },
    {
      "cell_type": "markdown",
      "source": [
        "Copy 5min min channel"
      ],
      "metadata": {
        "id": "gmULl38oCm36"
      }
    },
    {
      "cell_type": "code",
      "source": [
        "import pandas as pd\n",
        "\n",
        "def copy_5min_min_channel_to_1min(file_1min, file_5min, trading_start_time=\"09:15:00\"):\n",
        "    \"\"\"\n",
        "    Copies the 5-minute min_channel values to the 1-minute CSV file.\n",
        "\n",
        "    Args:\n",
        "        file_1min (str): Path to the 1-minute CSV file.\n",
        "        file_5min (str): Path to the 5-minute CSV file.\n",
        "        trading_start_time (str): Start time of the trading session (HH:MM:SS).\n",
        "\n",
        "    Returns:\n",
        "        str: Path to the updated 1-minute CSV file.\n",
        "    \"\"\"\n",
        "    try:\n",
        "        # Load the 1-minute and 5-minute CSV files\n",
        "        df_1min = pd.read_csv(file_1min, header=0)\n",
        "        df_5min = pd.read_csv(file_5min, header=0)\n",
        "\n",
        "        # Convert the first column in both files to datetime\n",
        "        df_1min.iloc[:, 0] = pd.to_datetime(df_1min.iloc[:, 0], errors='coerce')\n",
        "        df_5min.iloc[:, 0] = pd.to_datetime(df_5min.iloc[:, 0], errors='coerce')\n",
        "\n",
        "        # Set the timestamp columns as the index\n",
        "        df_1min.set_index(df_1min.columns[0], inplace=True)\n",
        "        df_5min.set_index(df_5min.columns[0], inplace=True)\n",
        "\n",
        "        # Add a new column in the 1-minute file for 5min_min_channel if it doesn't exist\n",
        "        if '5min_min_channel' not in df_1min.columns:\n",
        "            df_1min['5min_min_channel'] = None\n",
        "\n",
        "        # Iterate through the 5-minute data\n",
        "        for i in range(len(df_5min)):\n",
        "            # Get the current and next timestamps\n",
        "            current_time = df_5min.index[i]\n",
        "            next_time = (\n",
        "                df_5min.index[i + 1] if i + 1 < len(df_5min) else current_time + pd.Timedelta(minutes=5)\n",
        "            )\n",
        "\n",
        "            # Get the min_channel value from the 5-minute row\n",
        "            min_channel_5min = df_5min.iloc[i]['min_channel']  # Assuming the column is named 'min_channel'\n",
        "\n",
        "            # Update all rows in the 1-minute file within the current 5-minute range\n",
        "            df_1min.loc[current_time:next_time - pd.Timedelta(minutes=1), '5min_min_channel'] = min_channel_5min\n",
        "\n",
        "        # Filter out any rows with the 9:14 AM timestamp that appear erroneously\n",
        "        df_1min = df_1min[~((df_1min.index.time == pd.Timestamp(trading_start_time).time()) & (df_1min.index > df_5min.index[-1]))]\n",
        "\n",
        "        # Save the updated DataFrame back to the 1-minute CSV file\n",
        "        df_1min.to_csv(file_1min)\n",
        "        print(f\"5min_min_channel column copied and saved to {file_1min}\")\n",
        "        return file_1min\n",
        "\n",
        "    except Exception as e:\n",
        "        print(f\"Error while copying 5min_min_channel column: {e}\")\n",
        "        return None\n",
        "\n",
        "# Paths to the CSV files\n",
        "file_1min = \"/content/drive/My Drive/new_1min_data_2024.csv\"  # Updated 1-minute file\n",
        "file_5min = \"/content/drive/My Drive/5min_data_2024.csv\"  # Updated 5-minute file\n",
        "\n",
        "# Call the function to copy the 5-minute min_channel values\n",
        "copy_5min_min_channel_to_1min(file_1min, file_5min)\n"
      ],
      "metadata": {
        "colab": {
          "base_uri": "https://localhost:8080/",
          "height": 109
        },
        "id": "sY8xktFQCpQ8",
        "outputId": "2137b7ff-bb97-4620-8e83-bfa985b99270"
      },
      "execution_count": 24,
      "outputs": [
        {
          "output_type": "stream",
          "name": "stderr",
          "text": [
            "/usr/local/lib/python3.11/dist-packages/pandas/core/indexes/base.py:7588: FutureWarning: Dtype inference on a pandas object (Series, Index, ExtensionArray) is deprecated. The Index constructor will keep the original dtype in the future. Call `infer_objects` on the result to get the old behavior.\n",
            "  return Index(sequences[0], name=names)\n"
          ]
        },
        {
          "output_type": "stream",
          "name": "stdout",
          "text": [
            "5min_min_channel column copied and saved to /content/drive/My Drive/new_1min_data_2024.csv\n"
          ]
        },
        {
          "output_type": "execute_result",
          "data": {
            "text/plain": [
              "'/content/drive/My Drive/new_1min_data_2024.csv'"
            ],
            "application/vnd.google.colaboratory.intrinsic+json": {
              "type": "string"
            }
          },
          "metadata": {},
          "execution_count": 24
        }
      ]
    },
    {
      "cell_type": "markdown",
      "source": [
        "Copy 5min supertrend avg channel"
      ],
      "metadata": {
        "id": "JYo7q-i5Ctgc"
      }
    },
    {
      "cell_type": "code",
      "source": [
        "import pandas as pd\n",
        "\n",
        "def copy_5min_supertrend_avg_to_1min(file_1min, file_5min, trading_start_time=\"09:15:00\"):\n",
        "    \"\"\"\n",
        "    Copies the 5-minute supertrend_avg values to the 1-minute CSV file.\n",
        "\n",
        "    Args:\n",
        "        file_1min (str): Path to the 1-minute CSV file.\n",
        "        file_5min (str): Path to the 5-minute CSV file.\n",
        "        trading_start_time (str): Start time of the trading session (HH:MM:SS).\n",
        "\n",
        "    Returns:\n",
        "        str: Path to the updated 1-minute CSV file.\n",
        "    \"\"\"\n",
        "    try:\n",
        "        # Load the 1-minute and 5-minute CSV files\n",
        "        df_1min = pd.read_csv(file_1min, header=0)\n",
        "        df_5min = pd.read_csv(file_5min, header=0)\n",
        "\n",
        "        # Convert the first column in both files to datetime\n",
        "        df_1min.iloc[:, 0] = pd.to_datetime(df_1min.iloc[:, 0], errors='coerce')\n",
        "        df_5min.iloc[:, 0] = pd.to_datetime(df_5min.iloc[:, 0], errors='coerce')\n",
        "\n",
        "        # Set the timestamp columns as the index\n",
        "        df_1min.set_index(df_1min.columns[0], inplace=True)\n",
        "        df_5min.set_index(df_5min.columns[0], inplace=True)\n",
        "\n",
        "        # Add a new column in the 1-minute file for 5min_supertrend_avg if it doesn't exist\n",
        "        if '5min_supertrend_avg' not in df_1min.columns:\n",
        "            df_1min['5min_supertrend_avg'] = None\n",
        "\n",
        "        # Iterate through the 5-minute data\n",
        "        for i in range(len(df_5min)):\n",
        "            # Get the current and next timestamps\n",
        "            current_time = df_5min.index[i]\n",
        "            next_time = (\n",
        "                df_5min.index[i + 1] if i + 1 < len(df_5min) else current_time + pd.Timedelta(minutes=5)\n",
        "            )\n",
        "\n",
        "            # Get the supertrend_avg value from the 5-minute row\n",
        "            supertrend_avg_5min = df_5min.iloc[i]['supertrend_avg']  # Assuming the column is named 'supertrend_avg'\n",
        "\n",
        "            # Update all rows in the 1-minute file within the current 5-minute range\n",
        "            df_1min.loc[current_time:next_time - pd.Timedelta(minutes=1), '5min_supertrend_avg'] = supertrend_avg_5min\n",
        "\n",
        "        # Filter out any rows with the 9:14 AM timestamp that appear erroneously\n",
        "        df_1min = df_1min[~((df_1min.index.time == pd.Timestamp(trading_start_time).time()) & (df_1min.index > df_5min.index[-1]))]\n",
        "\n",
        "        # Save the updated DataFrame back to the 1-minute CSV file\n",
        "        df_1min.to_csv(file_1min)\n",
        "        print(f\"5min_supertrend_avg column copied and saved to {file_1min}\")\n",
        "        return file_1min\n",
        "\n",
        "    except Exception as e:\n",
        "        print(f\"Error while copying 5min_supertrend_avg column: {e}\")\n",
        "        return None\n",
        "\n",
        "# Paths to the CSV files\n",
        "file_1min = \"/content/drive/My Drive/new_1min_data_2024.csv\"  # Updated 1-minute file\n",
        "file_5min = \"/content/drive/My Drive/5min_data_2024.csv\"  # Updated 5-minute file\n",
        "\n",
        "# Call the function to copy the 5-minute supertrend_avg values\n",
        "copy_5min_supertrend_avg_to_1min(file_1min, file_5min)\n"
      ],
      "metadata": {
        "colab": {
          "base_uri": "https://localhost:8080/",
          "height": 109
        },
        "id": "vtVPwAWaDKZb",
        "outputId": "7fa9a7c4-d5f1-4e2a-f62e-00d05cb19249"
      },
      "execution_count": 25,
      "outputs": [
        {
          "output_type": "stream",
          "name": "stderr",
          "text": [
            "/usr/local/lib/python3.11/dist-packages/pandas/core/indexes/base.py:7588: FutureWarning: Dtype inference on a pandas object (Series, Index, ExtensionArray) is deprecated. The Index constructor will keep the original dtype in the future. Call `infer_objects` on the result to get the old behavior.\n",
            "  return Index(sequences[0], name=names)\n"
          ]
        },
        {
          "output_type": "stream",
          "name": "stdout",
          "text": [
            "5min_supertrend_avg column copied and saved to /content/drive/My Drive/new_1min_data_2024.csv\n"
          ]
        },
        {
          "output_type": "execute_result",
          "data": {
            "text/plain": [
              "'/content/drive/My Drive/new_1min_data_2024.csv'"
            ],
            "application/vnd.google.colaboratory.intrinsic+json": {
              "type": "string"
            }
          },
          "metadata": {},
          "execution_count": 25
        }
      ]
    },
    {
      "cell_type": "markdown",
      "source": [
        "Copy 5min 5wma"
      ],
      "metadata": {
        "id": "JM6EaTRLDpSM"
      }
    },
    {
      "cell_type": "code",
      "source": [
        "import pandas as pd\n",
        "\n",
        "def copy_5min_5wma_to_1min(file_1min, file_5min, trading_start_time=\"09:15:00\"):\n",
        "    \"\"\"\n",
        "    Copies the 5-minute 5WMA values to the 1-minute CSV file.\n",
        "\n",
        "    Args:\n",
        "        file_1min (str): Path to the 1-minute CSV file.\n",
        "        file_5min (str): Path to the 5-minute CSV file.\n",
        "        trading_start_time (str): Start time of the trading session (HH:MM:SS).\n",
        "\n",
        "    Returns:\n",
        "        str: Path to the updated 1-minute CSV file.\n",
        "    \"\"\"\n",
        "    try:\n",
        "        # Load the 1-minute and 5-minute CSV files\n",
        "        df_1min = pd.read_csv(file_1min, header=0)\n",
        "        df_5min = pd.read_csv(file_5min, header=0)\n",
        "\n",
        "        # Convert the first column in both files to datetime\n",
        "        df_1min.iloc[:, 0] = pd.to_datetime(df_1min.iloc[:, 0], errors='coerce')\n",
        "        df_5min.iloc[:, 0] = pd.to_datetime(df_5min.iloc[:, 0], errors='coerce')\n",
        "\n",
        "        # Set the timestamp columns as the index\n",
        "        df_1min.set_index(df_1min.columns[0], inplace=True)\n",
        "        df_5min.set_index(df_5min.columns[0], inplace=True)\n",
        "\n",
        "        # Add a new column in the 1-minute file for 5min_5wma if it doesn't exist\n",
        "        if '5min_5wma' not in df_1min.columns:\n",
        "            df_1min['5min_5wma'] = None\n",
        "\n",
        "        # Iterate through the 5-minute data\n",
        "        for i in range(len(df_5min)):\n",
        "            # Get the current and next timestamps\n",
        "            current_time = df_5min.index[i]\n",
        "            next_time = (\n",
        "                df_5min.index[i + 1] if i + 1 < len(df_5min) else current_time + pd.Timedelta(minutes=5)\n",
        "            )\n",
        "\n",
        "            # Get the 5WMA value from the 5-minute row\n",
        "            wma_5min = df_5min.iloc[i]['5wma']  # Assuming the column is named '5wma'\n",
        "\n",
        "            # Update all rows in the 1-minute file within the current 5-minute range\n",
        "            df_1min.loc[current_time:next_time - pd.Timedelta(minutes=1), '5min_5wma'] = wma_5min\n",
        "\n",
        "        # Filter out any rows with the 9:14 AM timestamp that appear erroneously\n",
        "        df_1min = df_1min[~((df_1min.index.time == pd.Timestamp(trading_start_time).time()) & (df_1min.index > df_5min.index[-1]))]\n",
        "\n",
        "        # Save the updated DataFrame back to the 1-minute CSV file\n",
        "        df_1min.to_csv(file_1min)\n",
        "        print(f\"5min_5wma column copied and saved to {file_1min}\")\n",
        "        return file_1min\n",
        "\n",
        "    except Exception as e:\n",
        "        print(f\"Error while copying 5min_5wma column: {e}\")\n",
        "        return None\n",
        "\n",
        "# Paths to the CSV files\n",
        "file_1min = \"/content/drive/My Drive/new_1min_data_2024.csv\"  # Updated 1-minute file\n",
        "file_5min = \"/content/drive/My Drive/5min_data_2024.csv\"  # Updated 5-minute file\n",
        "\n",
        "# Call the function to copy the 5-minute 5WMA values\n",
        "copy_5min_5wma_to_1min(file_1min, file_5min)\n"
      ],
      "metadata": {
        "colab": {
          "base_uri": "https://localhost:8080/",
          "height": 109
        },
        "id": "Rjr2hoFwEFq6",
        "outputId": "f7eb3433-7fa5-47c3-bbd2-69f70ec50f55"
      },
      "execution_count": 26,
      "outputs": [
        {
          "output_type": "stream",
          "name": "stderr",
          "text": [
            "/usr/local/lib/python3.11/dist-packages/pandas/core/indexes/base.py:7588: FutureWarning: Dtype inference on a pandas object (Series, Index, ExtensionArray) is deprecated. The Index constructor will keep the original dtype in the future. Call `infer_objects` on the result to get the old behavior.\n",
            "  return Index(sequences[0], name=names)\n"
          ]
        },
        {
          "output_type": "stream",
          "name": "stdout",
          "text": [
            "5min_5wma column copied and saved to /content/drive/My Drive/new_1min_data_2024.csv\n"
          ]
        },
        {
          "output_type": "execute_result",
          "data": {
            "text/plain": [
              "'/content/drive/My Drive/new_1min_data_2024.csv'"
            ],
            "application/vnd.google.colaboratory.intrinsic+json": {
              "type": "string"
            }
          },
          "metadata": {},
          "execution_count": 26
        }
      ]
    },
    {
      "cell_type": "markdown",
      "source": [
        "Check CE side strategy function"
      ],
      "metadata": {
        "id": "l0GSPrRvEU6a"
      }
    },
    {
      "cell_type": "code",
      "source": [
        "def check_ce(data, row):\n",
        "    \"\"\"\n",
        "    Checks if the CE strategy conditions are satisfied for the given row.\n",
        "\n",
        "    Args:\n",
        "        data (pd.DataFrame): The 1-minute CSV data.\n",
        "        row (int): The current row to check the CE strategy conditions.\n",
        "\n",
        "    Returns:\n",
        "        bool: True if CE alert and trigger conditions are satisfied, else False.\n",
        "    \"\"\"\n",
        "    # Get the alert candle (current row)\n",
        "    alert = data.iloc[row]\n",
        "\n",
        "    # Condition 1: 5min high > 5min min channel for the alert candle\n",
        "    if not (alert['5min_high'] >= alert['5min_min_channel']):\n",
        "        return False\n",
        "\n",
        "    # Condition 2: 5min low < 5min min channel for the alert candle\n",
        "    if not (alert['5min_low'] <= alert['5min_min_channel']):\n",
        "        return False\n",
        "\n",
        "    # Condition 3: 5min 5WMA > 5min high (gap condition)\n",
        "    if not (alert['5min_5wma'] > alert['5min_high']):\n",
        "        return False\n",
        "\n",
        "    # Condition 4: Trigger condition - within the next 7 rows (starting from 5th row)\n",
        "    for i in range(5, 12):  # Start checking from the 5th row onwards\n",
        "        if row + i >= len(data):  # Ensure within bounds\n",
        "            break\n",
        "        check = data.iloc[row + i]\n",
        "        if ((check['close'] > alert['5min_high']) and (check['5min_5wma'] > alert['5min_high'])):\n",
        "            return True\n",
        "\n",
        "    # If all conditions fail\n",
        "    return False\n"
      ],
      "metadata": {
        "id": "9aDwWAOJEX_Z"
      },
      "execution_count": 27,
      "outputs": []
    },
    {
      "cell_type": "markdown",
      "source": [
        "Check PE side strategy"
      ],
      "metadata": {
        "id": "Hdx-EsF9EeP_"
      }
    },
    {
      "cell_type": "code",
      "source": [
        "def check_pe(data, row):\n",
        "    \"\"\"\n",
        "    Checks if the PE strategy conditions are satisfied for the given row.\n",
        "\n",
        "    Args:\n",
        "        data (pd.DataFrame): The 1-minute CSV data.\n",
        "        row (int): The current row to check the PE strategy conditions.\n",
        "\n",
        "    Returns:\n",
        "        bool: True if PE alert and trigger conditions are satisfied, else False.\n",
        "    \"\"\"\n",
        "    # Get the alert candle (current row)\n",
        "    alert = data.iloc[row]\n",
        "\n",
        "    # Condition 1: 5min high > 5min max channel for the alert candle\n",
        "    if not (alert['5min_high'] >= alert['5min_max_channel']):\n",
        "        return False\n",
        "\n",
        "    # Condition 2: 5min low < 5min max channel for the alert candle\n",
        "    if not (alert['5min_low'] <= alert['5min_max_channel']):\n",
        "        return False\n",
        "\n",
        "    # Condition 3: 5min 5WMA < 5min low (gap condition)\n",
        "    if not (alert['5min_5wma'] < alert['5min_low']):\n",
        "        return False\n",
        "\n",
        "    # Condition 4: Trigger condition - within the next 7 rows (starting from 5th row)\n",
        "    for i in range(5, 12):  # Start checking from the 5th row onwards\n",
        "        if row + i >= len(data):  # Ensure within bounds\n",
        "            break\n",
        "        check = data.iloc[row + i]\n",
        "        if ((check['close'] < alert['5min_low']) and (check['5min_5wma'] < alert['5min_low'])):\n",
        "            return True\n",
        "\n",
        "    # If all conditions fail\n",
        "    return False\n"
      ],
      "metadata": {
        "id": "1q4XW6ViFcNS"
      },
      "execution_count": 28,
      "outputs": []
    },
    {
      "cell_type": "markdown",
      "source": [
        "Execute CE strategy function"
      ],
      "metadata": {
        "id": "8HTR8dpdFgtg"
      }
    },
    {
      "cell_type": "code",
      "source": [
        "def execute_ce(data, row):\n",
        "    \"\"\"\n",
        "    Executes the CE strategy when the alert and trigger conditions are satisfied.\n",
        "\n",
        "    Args:\n",
        "        data (pd.DataFrame): The 1-minute CSV data.\n",
        "        row (int): The starting row where the CE conditions are checked.\n",
        "\n",
        "    Returns:\n",
        "        dict: Contains profit, rows used, original SL, trailing SL, entry & exit details, and trade result status.\n",
        "    \"\"\"\n",
        "    # Initialize variables\n",
        "    alert = data.iloc[row]\n",
        "    rows_used = 5  # Adjusted for 5-minute strategy\n",
        "\n",
        "    # Find the trigger row (guaranteed by check_ce)\n",
        "    trigger = None\n",
        "    for i in range(5, 12):  # Start checking from the 5th row onwards\n",
        "        if row + i >= len(data):  # Ensure within bounds\n",
        "            break\n",
        "        check = data.iloc[row + i]\n",
        "        rows_used += 1\n",
        "        if ((check['close'] > alert['5min_high']) and (check['5min_5wma'] > alert['5min_high'])):\n",
        "            trigger = row + i\n",
        "            break\n",
        "\n",
        "    if trigger is None:\n",
        "        return {\n",
        "            'profit': 0,\n",
        "            'rows_used': rows_used,\n",
        "            'original_sl': None,\n",
        "            'trail_sl': None,\n",
        "            'status': 'no_trade',\n",
        "            'entry_datetime': None,\n",
        "            'exit_datetime': None,\n",
        "            'entry_price': None,\n",
        "            'exit_price': None\n",
        "        }\n",
        "\n",
        "    # Trade execution\n",
        "    trigger_row = data.iloc[trigger + 1]\n",
        "    entry_price = trigger_row['close']\n",
        "\n",
        "    original_sl = alert['5min_min_channel']\n",
        "    trail_sl = original_sl\n",
        "    profit = 0\n",
        "    qty = 1\n",
        "    status = None\n",
        "\n",
        "    # Capture entry datetime\n",
        "    entry_datetime = trigger_row.name\n",
        "\n",
        "    for i in range(trigger + 1, len(data)):\n",
        "        candle = data.iloc[i]\n",
        "        rows_used += 1\n",
        "\n",
        "        # Stop Loss Condition\n",
        "        if candle['close'] <= original_sl:\n",
        "            profit -= qty * abs(entry_price - original_sl)\n",
        "            return {\n",
        "                'profit': profit,\n",
        "                'rows_used': rows_used,\n",
        "                'original_sl': original_sl,\n",
        "                'trail_sl': trail_sl,\n",
        "                'status': 'loss',\n",
        "                'entry_datetime': entry_datetime,\n",
        "                'exit_datetime': candle.name,\n",
        "                'entry_price': entry_price,\n",
        "                'exit_price': original_sl\n",
        "            }\n",
        "\n",
        "        # Check Target 1 (25 pts)\n",
        "        if (candle['close'] - entry_price >= 25) and (qty == 1):\n",
        "            profit += 25 * 0.25\n",
        "            qty -= 0.25\n",
        "            trail_sl = entry_price + 25\n",
        "\n",
        "        # Check Target 2 (50 pts)\n",
        "        if (candle['close'] - entry_price >= 50) and (qty == 0.75):\n",
        "            profit += 50 * 0.25\n",
        "            qty -= 0.25\n",
        "            trail_sl = entry_price + 50\n",
        "\n",
        "        # Check Target 3 (100 pts)\n",
        "        if (candle['close'] - entry_price >= 100) and (qty == 0.5):\n",
        "            profit += 100 * 0.5\n",
        "            qty = 0\n",
        "            return {\n",
        "                'profit': profit,\n",
        "                'rows_used': rows_used,\n",
        "                'original_sl': original_sl,\n",
        "                'trail_sl': trail_sl,\n",
        "                'status': 'win',\n",
        "                'entry_datetime': entry_datetime,\n",
        "                'exit_datetime': candle.name,\n",
        "                'entry_price': entry_price,\n",
        "                'exit_price': candle['close']\n",
        "            }\n",
        "\n",
        "        # Check Trailing Stop Loss\n",
        "        if candle['close'] <= trail_sl:\n",
        "            profit += (trail_sl - entry_price) * qty\n",
        "            qty = 0\n",
        "            return {\n",
        "                'profit': profit,\n",
        "                'rows_used': rows_used,\n",
        "                'original_sl': original_sl,\n",
        "                'trail_sl': trail_sl,\n",
        "                'status': 'win',\n",
        "                'entry_datetime': entry_datetime,\n",
        "                'exit_datetime': candle.name,\n",
        "                'entry_price': entry_price,\n",
        "                'exit_price': candle['close']\n",
        "            }\n",
        "\n",
        "    return {\n",
        "        'profit': profit,\n",
        "        'rows_used': rows_used,\n",
        "        'original_sl': original_sl,\n",
        "        'trail_sl': trail_sl,\n",
        "        'status': 'win',\n",
        "        'entry_datetime': entry_datetime,\n",
        "        'exit_datetime': None,  # If no exit condition met, exit datetime is None\n",
        "        'entry_price': entry_price,\n",
        "        'exit_price': None  # No exit price if no exit condition met\n",
        "    }\n"
      ],
      "metadata": {
        "id": "VXMalzW9Fyko"
      },
      "execution_count": 34,
      "outputs": []
    },
    {
      "cell_type": "markdown",
      "source": [
        "Execute PE side strategy"
      ],
      "metadata": {
        "id": "CKD9ZijjGGD9"
      }
    },
    {
      "cell_type": "code",
      "source": [
        "def execute_pe(data, row):\n",
        "    \"\"\"\n",
        "    Executes the PE strategy when the alert and trigger conditions are satisfied.\n",
        "\n",
        "    Args:\n",
        "        data (pd.DataFrame): The 1-minute CSV data.\n",
        "        row (int): The starting row where the PE conditions are checked.\n",
        "\n",
        "    Returns:\n",
        "        dict: Contains profit, rows used, original SL, trailing SL, entry & exit details, and trade result status.\n",
        "    \"\"\"\n",
        "    # Initialize variables\n",
        "    alert = data.iloc[row]\n",
        "    rows_used = 5  # Adjusted for 5-minute strategy\n",
        "\n",
        "    # Find the trigger row (guaranteed by check_pe)\n",
        "    trigger = None\n",
        "    for i in range(5, 12):  # Start checking from the 5th row onwards\n",
        "        if row + i >= len(data):  # Ensure within bounds\n",
        "            break\n",
        "        check = data.iloc[row + i]\n",
        "        rows_used += 1\n",
        "        if (check['close'] < alert['5min_low'] and (check['5min_5wma'] < alert['5min_low'])):\n",
        "            trigger = row + i\n",
        "            break\n",
        "\n",
        "    if trigger is None:\n",
        "        return {\n",
        "            'profit': 0,\n",
        "            'rows_used': rows_used,\n",
        "            'original_sl': None,\n",
        "            'trail_sl': None,\n",
        "            'status': 'no_trade',\n",
        "            'entry_datetime': None,\n",
        "            'exit_datetime': None,\n",
        "            'entry_price': None,\n",
        "            'exit_price': None\n",
        "        }\n",
        "\n",
        "    # Trade execution\n",
        "    trigger_row = data.iloc[trigger + 1]\n",
        "    entry_price = trigger_row['close']\n",
        "\n",
        "    original_sl = alert['5min_max_channel']\n",
        "    trail_sl = original_sl\n",
        "    profit = 0\n",
        "    qty = 1\n",
        "    status = None\n",
        "\n",
        "    # Capture entry datetime\n",
        "    entry_datetime = trigger_row.name\n",
        "\n",
        "    for i in range(trigger + 1, len(data)):\n",
        "        candle = data.iloc[i]\n",
        "        rows_used += 1\n",
        "\n",
        "        # Stop Loss Condition\n",
        "        if candle['close'] >= original_sl:\n",
        "            profit -= qty * abs(original_sl - entry_price)\n",
        "            return {\n",
        "                'profit': profit,\n",
        "                'rows_used': rows_used,\n",
        "                'original_sl': original_sl,\n",
        "                'trail_sl': trail_sl,\n",
        "                'status': 'loss',\n",
        "                'entry_datetime': entry_datetime,\n",
        "                'exit_datetime': candle.name,\n",
        "                'entry_price': entry_price,\n",
        "                'exit_price': original_sl\n",
        "            }\n",
        "\n",
        "        # Check Target 1 (25 pts)\n",
        "        if (entry_price - candle['close'] >= 25) and (qty == 1):\n",
        "            profit += 25 * 0.25\n",
        "            qty -= 0.25\n",
        "            trail_sl = entry_price - 25\n",
        "\n",
        "        # Check Target 2 (50 pts)\n",
        "        if (entry_price - candle['close'] >= 50) and (qty == 0.75):\n",
        "            profit += 50 * 0.25\n",
        "            qty -= 0.25\n",
        "            trail_sl = entry_price - 50\n",
        "\n",
        "        # Check Target 3 (100 pts)\n",
        "        if (entry_price - candle['close'] >= 100) and (qty == 0.5):\n",
        "            profit += 100 * 0.5\n",
        "            qty = 0\n",
        "            return {\n",
        "                'profit': profit,\n",
        "                'rows_used': rows_used,\n",
        "                'original_sl': original_sl,\n",
        "                'trail_sl': trail_sl,\n",
        "                'status': 'win',\n",
        "                'entry_datetime': entry_datetime,\n",
        "                'exit_datetime': candle.name,\n",
        "                'entry_price': entry_price,\n",
        "                'exit_price': candle['close']\n",
        "            }\n",
        "\n",
        "        # Check Trailing Stop Loss\n",
        "        if candle['close'] >= trail_sl:\n",
        "            profit += (entry_price - trail_sl) * qty\n",
        "            qty = 0\n",
        "            return {\n",
        "                'profit': profit,\n",
        "                'rows_used': rows_used,\n",
        "                'original_sl': original_sl,\n",
        "                'trail_sl': trail_sl,\n",
        "                'status': 'win',\n",
        "                'entry_datetime': entry_datetime,\n",
        "                'exit_datetime': candle.name,\n",
        "                'entry_price': entry_price,\n",
        "                'exit_price': candle['close']\n",
        "            }\n",
        "\n",
        "    return {\n",
        "        'profit': profit,\n",
        "        'rows_used': rows_used,\n",
        "        'original_sl': original_sl,\n",
        "        'trail_sl': trail_sl,\n",
        "        'status': 'win',\n",
        "        'entry_datetime': entry_datetime,\n",
        "        'exit_datetime': None,  # If no exit condition met, exit datetime is None\n",
        "        'entry_price': entry_price,\n",
        "        'exit_price': None  # No exit price if no exit condition met\n",
        "    }\n"
      ],
      "metadata": {
        "id": "TQJIjQiRGH2S"
      },
      "execution_count": 35,
      "outputs": []
    },
    {
      "cell_type": "markdown",
      "source": [
        "Backtest strategy and evaluate results"
      ],
      "metadata": {
        "id": "hi82aAt2G4cU"
      }
    },
    {
      "cell_type": "code",
      "source": [
        "import pandas as pd\n",
        "import matplotlib.pyplot as plt\n",
        "\n",
        "def execute_strategy(data, trade_log_file=\"/content/drive/My Drive/trade_details_5min.csv\"):\n",
        "    \"\"\"\n",
        "    Execute both PE and CE strategies on the 1-minute data, log trade details,\n",
        "    and plot an Equity Curve (Net Profit Points vs Trade Count).\n",
        "\n",
        "    Args:\n",
        "        data (pd.DataFrame): The 1-minute DataFrame containing all required data.\n",
        "        trade_log_file (str): Path to the CSV file where trade details will be logged in Google Drive.\n",
        "\n",
        "    Returns:\n",
        "        dict: Summary of backtest results including trade count, win/loss ratio, and net profit.\n",
        "    \"\"\"\n",
        "    # Initialize metrics\n",
        "    trade_count = 0\n",
        "    win_count = 0\n",
        "    loss_count = 0\n",
        "    net_profit = 0\n",
        "    win_points = 0\n",
        "    loss_points = 0\n",
        "    ce_count = 0\n",
        "    pe_count = 0\n",
        "\n",
        "    # List to store trade details\n",
        "    trade_log = []\n",
        "    equity_curve = []  # Stores net profit points after each trade\n",
        "\n",
        "    # Start iterating through rows\n",
        "    i = 50  # Adjusted for 5-minute strategy\n",
        "    while i < len(data):\n",
        "        # Check for PE strategy\n",
        "        if check_pe(data, i):\n",
        "            pe_result = execute_pe(data, i)\n",
        "\n",
        "            # Skip if no trade occurred\n",
        "            if pe_result['status'] == 'no_trade':\n",
        "                i += 1  # Move to the next row\n",
        "                continue\n",
        "\n",
        "            # Count the trade\n",
        "            trade_count += 1\n",
        "            net_profit += pe_result['profit']\n",
        "            pe_count += 1\n",
        "            equity_curve.append(net_profit)  # Store equity curve data\n",
        "\n",
        "            # Determine if it was a win or loss trade\n",
        "            if pe_result['status'] == 'win':\n",
        "                win_count += 1\n",
        "                win_points += pe_result['profit']\n",
        "            else:\n",
        "                loss_count += 1\n",
        "                loss_points += pe_result['profit']\n",
        "\n",
        "            # Log trade details\n",
        "            trade_log.append({\n",
        "                \"Trade Type\": \"PE\",\n",
        "                \"Entry Datetime\": pe_result['entry_datetime'],\n",
        "                \"Exit Datetime\": pe_result['exit_datetime'],\n",
        "                \"Entry Price\": pe_result['entry_price'],\n",
        "                \"Exit Price\": pe_result['exit_price'],\n",
        "                \"Profit Points\": pe_result['profit'],\n",
        "                \"Status\": pe_result['status']\n",
        "            })\n",
        "\n",
        "            # Skip rows used during this trade\n",
        "            i += pe_result['rows_used']\n",
        "            continue\n",
        "\n",
        "        # Check for CE strategy\n",
        "        if check_ce(data, i):\n",
        "            ce_result = execute_ce(data, i)\n",
        "\n",
        "            # Skip if no trade occurred\n",
        "            if ce_result['status'] == 'no_trade':\n",
        "                i += 1  # Move to the next row\n",
        "                continue\n",
        "\n",
        "            # Count the trade\n",
        "            trade_count += 1\n",
        "            net_profit += ce_result['profit']\n",
        "            ce_count += 1\n",
        "            equity_curve.append(net_profit)  # Store equity curve data\n",
        "\n",
        "            # Determine if it was a win or loss trade\n",
        "            if ce_result['status'] == 'win':\n",
        "                win_count += 1\n",
        "                win_points += ce_result['profit']\n",
        "            else:\n",
        "                loss_count += 1\n",
        "                loss_points += ce_result['profit']\n",
        "\n",
        "            # Log trade details\n",
        "            trade_log.append({\n",
        "                \"Trade Type\": \"CE\",\n",
        "                \"Entry Datetime\": ce_result['entry_datetime'],\n",
        "                \"Exit Datetime\": ce_result['exit_datetime'],\n",
        "                \"Entry Price\": ce_result['entry_price'],\n",
        "                \"Exit Price\": ce_result['exit_price'],\n",
        "                \"Profit Points\": ce_result['profit'],\n",
        "                \"Status\": ce_result['status']\n",
        "            })\n",
        "\n",
        "            # Skip rows used during this trade\n",
        "            i += ce_result['rows_used']\n",
        "            continue\n",
        "\n",
        "        # If neither strategy triggers a trade, move to the next row\n",
        "        i += 1\n",
        "\n",
        "    # Convert trade log to DataFrame and save to Google Drive\n",
        "    trade_log_df = pd.DataFrame(trade_log)\n",
        "    trade_log_df.to_csv(trade_log_file, index=False)\n",
        "\n",
        "    print(f\"Trade details saved to Google Drive: {trade_log_file}\")\n",
        "\n",
        "    # Prepare summary results\n",
        "    results = {\n",
        "        'Total Trades': trade_count,\n",
        "        'Winning Trades': win_count,\n",
        "        'Losing Trades': loss_count,\n",
        "        'Win Rate (%)': (win_count / trade_count * 100) if trade_count > 0 else 0,\n",
        "        'Net Profit Points': net_profit,\n",
        "        'Win Points': win_points,\n",
        "        'Loss Points': loss_points,\n",
        "        'PE Trades': pe_count,\n",
        "        'CE Trades': ce_count\n",
        "    }\n",
        "\n",
        "    # Print results\n",
        "    print(\"Backtest Results:\")\n",
        "    for key, value in results.items():\n",
        "        print(f\"{key}: {value}\")\n",
        "\n",
        "    # Plot Equity Curve (Net Profit Points vs Trade Count)\n",
        "    plt.figure(figsize=(10, 5))\n",
        "    plt.plot(\n",
        "    range(1, len(equity_curve) + 1),\n",
        "    equity_curve,\n",
        "    marker='o', linestyle='-', color='blue',\n",
        "    markersize=1,  # Smaller marker size for clarity\n",
        "    linewidth=0.5  # Reduce line width for a thinner curve\n",
        "    )\n",
        "    plt.xlabel(\"Trade Number\")\n",
        "    plt.ylabel(\"Cumulative Net Profit Points\")\n",
        "    plt.title(\"Equity Curve: Net Profit Points vs Trade Count\")\n",
        "    plt.legend()\n",
        "    plt.grid(True)\n",
        "    plt.show()\n",
        "\n",
        "    return results\n",
        "\n",
        "\n",
        "# Example usage\n",
        "if __name__ == \"__main__\":\n",
        "    # Load the data from Google Drive\n",
        "    file_1min = \"/content/drive/My Drive/new_1min_data_2024.csv\"  # Updated with new file name\n",
        "    data = pd.read_csv(file_1min, parse_dates=['date'])\n",
        "    data.set_index('date', inplace=True)\n",
        "\n",
        "    # Call the strategy execution\n",
        "    results = execute_strategy(data)\n"
      ],
      "metadata": {
        "colab": {
          "base_uri": "https://localhost:8080/",
          "height": 739
        },
        "id": "beuUGDJdG6zj",
        "outputId": "497833fe-2191-4431-b405-94852fbcea57"
      },
      "execution_count": 39,
      "outputs": [
        {
          "output_type": "stream",
          "name": "stdout",
          "text": [
            "Trade details saved to Google Drive: /content/drive/My Drive/trade_details_5min.csv\n",
            "Backtest Results:\n",
            "Total Trades: 628\n",
            "Winning Trades: 298\n",
            "Losing Trades: 330\n",
            "Win Rate (%): 47.452229299363054\n",
            "Net Profit Points: 4223.233543828276\n",
            "Win Points: 10193.75\n",
            "Loss Points: -5970.516456171724\n",
            "PE Trades: 326\n",
            "CE Trades: 302\n"
          ]
        },
        {
          "output_type": "stream",
          "name": "stderr",
          "text": [
            "<ipython-input-39-3a9d50f0743d>:148: UserWarning: No artists with labels found to put in legend.  Note that artists whose label start with an underscore are ignored when legend() is called with no argument.\n",
            "  plt.legend()\n"
          ]
        },
        {
          "output_type": "display_data",
          "data": {
            "text/plain": [
              "<Figure size 1000x500 with 1 Axes>"
            ],
            "image/png": "[encoded data removed]"
          },
          "metadata": {}
        }
      ]
    },
    {
      "cell_type": "markdown",
      "source": [
        "Remove CE part temporary"
      ],
      "metadata": {
        "id": "gRErcChMOlZ9"
      }
    },
    {
      "cell_type": "code",
      "source": [],
      "metadata": {
        "id": "lCvoxSNDOniD"
      },
      "execution_count": null,
      "outputs": []
    },
    {
      "cell_type": "markdown",
      "source": [
        "Remove PE part temporary"
      ],
      "metadata": {
        "id": "Ko95aTQCOnwS"
      }
    },
    {
      "cell_type": "code",
      "source": [],
      "metadata": {
        "id": "hfN8cSQzOp6g"
      },
      "execution_count": null,
      "outputs": []
    }
  ]
}